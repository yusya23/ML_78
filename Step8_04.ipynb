{
 "cells": [
  {
   "cell_type": "markdown",
   "metadata": {},
   "source": [
    "# Step8 演習04 バックプロバゲーション\n",
    "---"
   ]
  },
  {
   "cell_type": "markdown",
   "metadata": {},
   "source": [
    "ニューラルネットワークでマルチ分類問題を解くためには、各ニューロンを結合する重みやバイアスといったパラメータを求める必要があります。\n",
    "\n",
    "これらのパラメータはscikit-learn の MLPClassifier のようなライブラリを用いれば求めることができました。\n",
    "\n",
    "これらのライブラリではバックプロバゲーションを使って係数を求めます。この演習では、バックプロバゲーションを実際に実装してみましょう。\n",
    "\n",
    "\n",
    "**はじめに**\n",
    "- for文やwhile文の利用は明示的な利用指示がない場所での使用は避けてください。\n",
    "\n",
    "**本演習の目的**\n",
    "- ニューラルネットワークのモデルを構築し、フォワードプロパゲーション・バックプロパゲーションの実装をする。"
   ]
  },
  {
   "cell_type": "markdown",
   "metadata": {},
   "source": [
    "## ライブラリのインポート"
   ]
  },
  {
   "cell_type": "markdown",
   "metadata": {},
   "source": [
    "まずはじめに、利用するライブラリのインポートを行います。\n",
    "\n",
    "- [NumPy](http://www.numpy.org) 数値計算を行うための基本パッケージの公式ドキュメント\n",
    "- [Matplotlib](http://matplotlib.org) グラフ描画ライブラリの基本パッケージの公式ドキュメント\n",
    "- [scikit-learn](http://scikit-learn.org/stable/index.html) Pythonのオープンソース機械学習ライブラリの公式ドキュメント\n",
    "\n",
    "ドキュメントには有用な情報が書き記されています。何か迷ったときには必ずドキュメントに戻ってくるようにしましょう。\n",
    "\n",
    "次のセルをそのまま実行（\"SHIFT\" + \"ENTER\"）してください。コードが書いてあるセルは**上から順番に**順次実行してください。\n",
    "\n",
    "** 注意： **初めてmatplotlibを使うユーザーは、フォント一覧のキャッシュが存在しないため、このセルの実行でWarningが出ます。もう一度実行すると、すでにキャッシュができているので、Warningなく走ります。"
   ]
  },
  {
   "cell_type": "code",
   "execution_count": 1,
   "metadata": {
    "collapsed": true
   },
   "outputs": [],
   "source": [
    "import numpy as np\n",
    "import matplotlib.pyplot as plt\n",
    "%matplotlib inline"
   ]
  },
  {
   "cell_type": "markdown",
   "metadata": {},
   "source": [
    "## 線形分離不可能なデータセット"
   ]
  },
  {
   "cell_type": "markdown",
   "metadata": {},
   "source": [
    "線形分離不可能なデータセットの例としてXNORを使います。"
   ]
  },
  {
   "cell_type": "markdown",
   "metadata": {},
   "source": [
    "<table style=\"width:30%\">\n",
    "\n",
    "\t<thead>\n",
    "\t<tr>\n",
    "\t\t<th >入力$X_1$</th>\n",
    "\t\t<th >入力$X_2$</th>\n",
    "\t\t<th >出力$y$</th>\n",
    "\t</tr>\n",
    "\t</thead>\n",
    "\n",
    "  <tr>\n",
    "    <td>0</td>\n",
    "    <td> 0 </td> \n",
    "    <td> 1 </td> \n",
    "  </tr>\n",
    "  \n",
    "    <tr>\n",
    "    <td>1</td>\n",
    "    <td> 1 </td> \n",
    "    <td> 1 </td> \n",
    "  </tr>\n",
    "  \n",
    "    <tr>\n",
    "    <td>0</td>\n",
    "    <td> 1 </td> \n",
    "    <td> 0 </td> \n",
    "  </tr>\n",
    " \n",
    "     <tr>\n",
    "    <td>1</td>\n",
    "    <td> 0 </td> \n",
    "    <td> 0 </td> \n",
    "  </tr>\n",
    "  \n",
    "</table>"
   ]
  },
  {
   "cell_type": "code",
   "execution_count": 2,
   "metadata": {
    "collapsed": true
   },
   "outputs": [],
   "source": [
    "X = np.array([[0, 0], [1, 1], [1, 0], [0, 1]])\n",
    "y = np.array([[1], [1], [0], [0]])"
   ]
  },
  {
   "cell_type": "markdown",
   "metadata": {},
   "source": [
    "## データの視覚化"
   ]
  },
  {
   "cell_type": "markdown",
   "metadata": {},
   "source": [
    "下記の分類問題を解くニューラルネットワークを実装することを目標にします。"
   ]
  },
  {
   "cell_type": "code",
   "execution_count": 3,
   "metadata": {
    "collapsed": false
   },
   "outputs": [
    {
     "data": {
      "image/png": "[encoded data removed]",
      "text/plain": [
       "<matplotlib.figure.Figure at 0x7f8e8c2b40f0>"
      ]
     },
     "metadata": {},
     "output_type": "display_data"
    }
   ],
   "source": [
    "plt.scatter(X[0][0], X[0][1], s=200, color='blue',  marker='o', label='1')\n",
    "plt.scatter(X[1][0], X[1][1], s=200, color='blue', marker='o')\n",
    "plt.scatter(X[2][0], X[2][1], s=200, color='red', marker='x',  label='0')\n",
    "plt.scatter(X[3][0], X[3][1], s=200, color='red', marker='x')\n",
    "plt.legend(bbox_to_anchor=(1.05, 1), loc='upper left', borderaxespad=0, fontsize=18)\n",
    "plt.show()"
   ]
  },
  {
   "cell_type": "markdown",
   "metadata": {},
   "source": [
    "## フォワードプロバゲーションの実装準備"
   ]
  },
  {
   "cell_type": "markdown",
   "metadata": {},
   "source": [
    "バックプロバゲーションは、フォワードプロバゲーションで得られた出力と正解との誤差を逆方向に伝播する処理なので、まずフォワードプロパゲーションを実装して正解との誤差を求めます。"
   ]
  },
  {
   "cell_type": "markdown",
   "metadata": {},
   "source": [
    "<div align=\"center\"  style=\"width:75%\">\n",
    "<img src=\"./dataStep8/forward_prop.png\"></div>"
   ]
  },
  {
   "cell_type": "markdown",
   "metadata": {},
   "source": [
    "上の画像のようなニューラルネットワークのモデルを構築します。\n",
    "\n",
    "各層のニューロンの数は以下のようになります。\n",
    "\n",
    "- 入力層のニューロン数 ２個\n",
    "- 隠れ層のニューロン数 ２個\n",
    "- 出力層のニューロン数 １個"
   ]
  },
  {
   "cell_type": "code",
   "execution_count": 4,
   "metadata": {
    "collapsed": true
   },
   "outputs": [],
   "source": [
    "input_size = 2\n",
    "hidden_size = 2\n",
    "output_size = 1"
   ]
  },
  {
   "cell_type": "markdown",
   "metadata": {},
   "source": [
    "### パラメータの初期化"
   ]
  },
  {
   "cell_type": "markdown",
   "metadata": {},
   "source": [
    "図から、各パラメータのシェイプが分かります。W1は２行２列、b1は１行２列、W2は２行１列、b2は１行１列になります。\n",
    "\n",
    "パラメータの配列のシェイプは各層に配置するニューロンの数に依存します。\n",
    "\n",
    "各層に配置するニューロンの数が変化しても対応できるようにしておくと便利です。\n",
    "\n",
    "下記のコードは、各パラメータに設定する値（初期値）を乱数で与えます。"
   ]
  },
  {
   "cell_type": "code",
   "execution_count": 5,
   "metadata": {
    "collapsed": true
   },
   "outputs": [],
   "source": [
    "W1 = np.random.randn(input_size,hidden_size)\n",
    "b1 = np.zeros((1, hidden_size))\n",
    "\n",
    "W2 = np.random.randn(hidden_size,output_size)\n",
    "b2 = np.zeros((1, output_size))"
   ]
  },
  {
   "cell_type": "markdown",
   "metadata": {},
   "source": [
    "各パラメータのシェイプと値を確認してみましょう。"
   ]
  },
  {
   "cell_type": "code",
   "execution_count": 6,
   "metadata": {
    "collapsed": false
   },
   "outputs": [
    {
     "name": "stdout",
     "output_type": "stream",
     "text": [
      "W1: (2, 2)\n",
      "b1: (1, 2)\n",
      "W2: (2, 1)\n",
      "b2: (1, 1)\n",
      "W1: [[-0.90251456  0.44799945]\n",
      " [ 1.06760317  0.24093758]]\n",
      "b1: [[0. 0.]]\n",
      "W2: [[-0.18772043]\n",
      " [ 0.59525192]]\n",
      "b2: [[0.]]\n"
     ]
    }
   ],
   "source": [
    "print('W1:', W1.shape)\n",
    "print('b1:', b1.shape)\n",
    "print('W2:', W2.shape)\n",
    "print('b2:', b2.shape)\n",
    "print('W1:', W1)\n",
    "print('b1:', b1)\n",
    "print('W2:', W2)\n",
    "print('b2:', b2)"
   ]
  },
  {
   "cell_type": "markdown",
   "metadata": {},
   "source": [
    "### 活性化関数"
   ]
  },
  {
   "cell_type": "markdown",
   "metadata": {},
   "source": [
    "フォワードプロパゲーションで利用する活性化関数を下記のように実装します。"
   ]
  },
  {
   "cell_type": "code",
   "execution_count": 7,
   "metadata": {
    "collapsed": true
   },
   "outputs": [],
   "source": [
    "# シグモイド関数\n",
    "def sigmoid(x):\n",
    "    return 1/(1 + np.exp(-x))\n",
    "\n",
    "# relu関数\n",
    "def relu(x):\n",
    "     return np.maximum(0, x)"
   ]
  },
  {
   "cell_type": "markdown",
   "metadata": {},
   "source": [
    "## フォワードプロバゲーションの実装"
   ]
  },
  {
   "cell_type": "markdown",
   "metadata": {},
   "source": [
    "隠れ層の活性化関数g1()はrelu関数、出力層の活性化関数は確率解釈ができるようにsigmoid関数を用いることにして、図の通りフォワードプロパゲーションを実装します。"
   ]
  },
  {
   "cell_type": "code",
   "execution_count": 8,
   "metadata": {
    "collapsed": true
   },
   "outputs": [],
   "source": [
    "#　フォワードプロパゲーション\n",
    "layer1_z = np.dot(X, W1) + b1 \n",
    "layer1_a = relu(layer1_z)  #relu activation\n",
    "\n",
    "layer2_z = np.dot(layer1_a, W2) + b2\n",
    "layer2_a = sigmoid(layer2_z)  # Sigmoid\n",
    "\n",
    "output = layer2_a  #layer2_a is the output"
   ]
  },
  {
   "cell_type": "markdown",
   "metadata": {},
   "source": [
    "## バックプロバゲーションの実装\n",
    "下図のバックプロバゲーションを実装してみましょう。\n"
   ]
  },
  {
   "cell_type": "markdown",
   "metadata": {},
   "source": [
    "<div align=\"center\"  style=\"width:75%\">\n",
    "<img src=\"./dataStep8/back_prop.png\"></div>"
   ]
  },
  {
   "cell_type": "markdown",
   "metadata": {},
   "source": [
    "### 活性化関数の微分"
   ]
  },
  {
   "cell_type": "markdown",
   "metadata": {},
   "source": [
    "バックプロバーゲーションを行うには、活性関数の微分が必要になるので、sigimoid関数とrelu関数の微分を実装します。"
   ]
  },
  {
   "cell_type": "markdown",
   "metadata": {},
   "source": [
    "** 【課題７】 ** シグモイド関数の微分出力を返す関数 sigmoid_derivative(x) を実装してください。\n",
    "\n",
    "**Note:**\n",
    "シグモイド関数の微分の定義です。\n",
    "\n",
    "$$\\sigma'{(x)}=\\sigma{(x)}(1-\\sigma{(x)})$$"
   ]
  },
  {
   "cell_type": "code",
   "execution_count": 9,
   "metadata": {
    "collapsed": true
   },
   "outputs": [],
   "source": [
    "#Coursemale-02 Step8 QuestionNumber7 92eb9778f949cabe3092ac9dd7cee0a8\n",
    "def sigmoid_derivative(x):\n",
    "###############ここを穴埋めしてください###############\n",
    "    y = sigmoid(x)*(1 - sigmoid(x))\n",
    "######################################################\n",
    "    return y"
   ]
  },
  {
   "cell_type": "markdown",
   "metadata": {},
   "source": [
    "** 左上の保存マークをクリックした後**、次のセルをShift+Enterで実行して採点します。"
   ]
  },
  {
   "cell_type": "code",
   "execution_count": 10,
   "metadata": {
    "collapsed": false
   },
   "outputs": [
    {
     "name": "stdout",
     "output_type": "stream",
     "text": [
      "Congratulations!\n",
      "We give you 10 points out of 10 points.\n",
      "\n"
     ]
    }
   ],
   "source": [
    "%%bash\n",
    "./validation_client.py male-02 8 7 Step8_04.ipynb api.internal.zero2one.jp"
   ]
  },
  {
   "cell_type": "markdown",
   "metadata": {},
   "source": [
    "ReLU関数の微分出力を返す関数 relu_derivative(x) として定義しました。\n",
    "\n",
    "**Note：**ReLU関数の微分の定義です。\n",
    "\n",
    "$$\n",
    "  relu\\_derivative(x) = \\left\\{ \\begin{array}{ll}\n",
    "    1　(x>0) \\\\\n",
    "    0　(x≦0)\n",
    "  \\end{array} \\right.\n",
    "$$\n",
    "\n",
    "ReLU関数の微分は入力が正のときは１出力し、入力が負のときゼロを出力します。"
   ]
  },
  {
   "cell_type": "code",
   "execution_count": 11,
   "metadata": {
    "collapsed": true
   },
   "outputs": [],
   "source": [
    "def relu_derivative(x):\n",
    "    x[x<=0] = 0\n",
    "    x[x>0] = 1\n",
    "    return x"
   ]
  },
  {
   "cell_type": "markdown",
   "metadata": {},
   "source": [
    "シグモイド関数とシグモイド関数の微分の出力結果をプロットしてみます。\n",
    "\n",
    "下のセルを実行してください。"
   ]
  },
  {
   "cell_type": "code",
   "execution_count": 12,
   "metadata": {
    "collapsed": false
   },
   "outputs": [
    {
     "data": {
      "image/png": "[encoded data removed]",
      "text/plain": [
       "<matplotlib.figure.Figure at 0x7f8e89fe57f0>"
      ]
     },
     "metadata": {},
     "output_type": "display_data"
    }
   ],
   "source": [
    "# シグモイド関数\n",
    "x = np.arange(-10,10,0.01) \n",
    "y_ = sigmoid(x)\n",
    "plt.plot(x, y_) \n",
    "\n",
    "# シグモイド関数の微分\n",
    "x = np.arange(-10,10,0.01) \n",
    "y_derivative = sigmoid_derivative(x)\n",
    "plt.plot(x, y_derivative) \n",
    "\n",
    "plt.show() "
   ]
  },
  {
   "cell_type": "markdown",
   "metadata": {},
   "source": [
    "ReLU関数とReLU関数の微分の出力結果をプロットしてみます。\n",
    "\n",
    "下のセルを実行してください。"
   ]
  },
  {
   "cell_type": "code",
   "execution_count": 13,
   "metadata": {
    "collapsed": false
   },
   "outputs": [
    {
     "data": {
      "image/png": "[encoded data removed]",
      "text/plain": [
       "<matplotlib.figure.Figure at 0x7f8e89f76710>"
      ]
     },
     "metadata": {},
     "output_type": "display_data"
    }
   ],
   "source": [
    "# relu関数\n",
    "x = np.arange(-5, 5, 0.02) \n",
    "y_ = relu(x)\n",
    "plt.plot(x, y_) \n",
    "\n",
    "# relu関数の微分\n",
    "x = np.arange(-5, 5, 0.02) \n",
    "y_derivative = relu_derivative(x)\n",
    "x = np.arange(-5, 5, 0.02) \n",
    "plt.plot(x, y_derivative) \n",
    "\n",
    "plt.show() "
   ]
  },
  {
   "cell_type": "markdown",
   "metadata": {},
   "source": [
    "## バックプロパゲーションの実装"
   ]
  },
  {
   "cell_type": "markdown",
   "metadata": {},
   "source": [
    "#### パラメータを更新する量（変化量）の算出\n",
    "フォワードブロパゲーションを実行した結果得られた出力（output）と、期待される値（正解 y）との誤差を計算し、それを逆伝播することで、次に用いるW2、b2、W1、b2をどれだけ変化（調整）すべきか算出します。"
   ]
  },
  {
   "cell_type": "markdown",
   "metadata": {},
   "source": [
    "**【課題８】** 逆伝播を行う関数 back_propagation(X, y, W2, output, layer2_z, layer1_a, layer1_z) を実装してください。\n",
    "\n",
    "戻り値は、目的関数のパラメータに関する勾配 $w_1,b_1,w_2,b_2$ とします。"
   ]
  },
  {
   "cell_type": "code",
   "execution_count": 14,
   "metadata": {
    "collapsed": true
   },
   "outputs": [],
   "source": [
    "#Coursemale-02 Step8 QuestionNumber8 9c295e7bb92680c8bf12fc4f1b05f600\n",
    "def back_propagation(X, y, W2, output, layer2_z, layer1_a, layer1_z):\n",
    "###############ここを穴埋めしてください###############\n",
    "    delta2 = (output - y) * sigmoid_derivative(layer2_z)\n",
    "    delta_W2 = np.dot(layer1_a.T, delta2) \n",
    "    delta_b2 = np.sum(delta2, axis=0 ,keepdims=True)\n",
    "\n",
    "    delta1 = np.dot(delta2, W2.T) * relu_derivative(layer1_z)\n",
    "    delta_W1 = np.dot(X.T, delta1) \n",
    "    delta_b1 = np.sum(delta1, axis=0 ,keepdims=True)\n",
    "######################################################\n",
    "    return delta_W2, delta_b2, delta_W1, delta_b1"
   ]
  },
  {
   "cell_type": "markdown",
   "metadata": {},
   "source": [
    "** 左上の保存マークをクリックした後**、次のセルをShift+Enterで実行して採点します。"
   ]
  },
  {
   "cell_type": "code",
   "execution_count": 15,
   "metadata": {
    "collapsed": false
   },
   "outputs": [
    {
     "name": "stdout",
     "output_type": "stream",
     "text": [
      "Congratulations!\n",
      "We give you 10 points out of 10 points.\n",
      "\n"
     ]
    }
   ],
   "source": [
    "%%bash\n",
    "./validation_client.py male-02 8 8 Step8_04.ipynb api.internal.zero2one.jp"
   ]
  },
  {
   "cell_type": "code",
   "execution_count": 16,
   "metadata": {
    "collapsed": true
   },
   "outputs": [],
   "source": [
    "delta_W2, delta_b2, delta_W1, delta_b1 = back_propagation(X, y, W2, output, layer2_z, layer1_a, layer1_z)"
   ]
  },
  {
   "cell_type": "code",
   "execution_count": 17,
   "metadata": {
    "collapsed": false
   },
   "outputs": [
    {
     "name": "stdout",
     "output_type": "stream",
     "text": [
      "[[0.11336111]\n",
      " [0.02401314]]\n",
      "[[0.03740026]]\n",
      "[[ 0.01840068  0.02444097]\n",
      " [-0.00437739  0.01388047]]\n",
      "[[-0.00437739  0.09666906]]\n"
     ]
    }
   ],
   "source": [
    "print(delta_W2)\n",
    "print(delta_b2)\n",
    "print(delta_W1)\n",
    "print(delta_b1)"
   ]
  },
  {
   "cell_type": "markdown",
   "metadata": {},
   "source": [
    "## パラメータの更新"
   ]
  },
  {
   "cell_type": "markdown",
   "metadata": {},
   "source": [
    "学習率（learning_rate）を設定し、この値を先ほど求めたdelta_W1、delta_b1,\n",
    "delta_W2、delta_b2に掛けた分だけ各パラメータの量を変化させます。"
   ]
  },
  {
   "cell_type": "code",
   "execution_count": 18,
   "metadata": {
    "collapsed": true
   },
   "outputs": [],
   "source": [
    "learning_rate = 0.01"
   ]
  },
  {
   "cell_type": "markdown",
   "metadata": {},
   "source": [
    "**【課題９】** パラメータの更新を行う関数 update_parameters(W1, b1, W2, b2, delta_W1, delta_b1, delta_W2, delta_b2, learning_rate) を実装してください。\n",
    "\n",
    "戻り値は、パラメータ $W_1,b_1,W_2,b_2$ とします。"
   ]
  },
  {
   "cell_type": "code",
   "execution_count": 19,
   "metadata": {
    "collapsed": true
   },
   "outputs": [],
   "source": [
    "#Coursemale-02 Step8 QuestionNumber9 61a3cc9e875960f7bae3964877e2c06c\n",
    "def update_parameters(W1, b1, W2, b2, delta_W1, delta_b1, delta_W2, delta_b2, learning_rate):\n",
    "###############ここを穴埋めしてください###############\n",
    "    W1 = W1 - learning_rate * delta_W1\n",
    "    b1 = b1 - learning_rate * delta_b1    \n",
    "    W2 = W2 - learning_rate * delta_W2\n",
    "    b2 = b2 - learning_rate * delta_b2\n",
    "######################################################\n",
    "    return W1, b1, W2, b2"
   ]
  },
  {
   "cell_type": "markdown",
   "metadata": {},
   "source": [
    "** 左上の保存マークをクリックした後**、次のセルをShift+Enterで実行して採点します。"
   ]
  },
  {
   "cell_type": "code",
   "execution_count": 20,
   "metadata": {
    "collapsed": false
   },
   "outputs": [
    {
     "name": "stdout",
     "output_type": "stream",
     "text": [
      "Congratulations!\n",
      "We give you 10 points out of 10 points.\n",
      "\n"
     ]
    }
   ],
   "source": [
    "%%bash\n",
    "./validation_client.py male-02 8 9 Step8_04.ipynb api.internal.zero2one.jp"
   ]
  },
  {
   "cell_type": "code",
   "execution_count": 21,
   "metadata": {
    "collapsed": true
   },
   "outputs": [],
   "source": [
    "W1, b1, W2, b2 = update_parameters(W1, b1, W2, b2, delta_W1, delta_b1, delta_W2, delta_b2, learning_rate)"
   ]
  },
  {
   "cell_type": "code",
   "execution_count": 22,
   "metadata": {
    "collapsed": false
   },
   "outputs": [
    {
     "name": "stdout",
     "output_type": "stream",
     "text": [
      "[[-0.90269857  0.44775504]\n",
      " [ 1.06764695  0.24079877]]\n",
      "[[ 4.37738814e-05 -9.66690636e-04]]\n",
      "[[-0.18885405]\n",
      " [ 0.59501179]]\n",
      "[[-0.000374]]\n"
     ]
    }
   ],
   "source": [
    "print(W1)\n",
    "print(b1)\n",
    "print(W2)\n",
    "print(b2)"
   ]
  },
  {
   "cell_type": "markdown",
   "metadata": {},
   "source": [
    "このようにして求めた新しいW1、b1、W2、b2を用いて、再度フォワードブロパゲーションを実行します。\n",
    "\n",
    "その結果得られた出力をバックワードプロパゲーションを用いて、新たなW1、b1、W2、b2を再計算します。\n",
    "\n",
    "そして、再度フォワードブロパゲーションを実行して。。。というように、このプロセスを何度も繰り返し、目的関数の値が十分小さくなる（変化しなくなる）まで繰り返します。"
   ]
  },
  {
   "cell_type": "markdown",
   "metadata": {},
   "source": [
    "## ニューロラルネットワークの学習\n",
    "上記のコードを全てまとめると、以下のようになります。\n",
    "\n",
    "すべてのトレーニングデータを学習に使う回数をエポックと呼びます。エポックを調整し、十分学習曲線が落ち着くまで学習させます。"
   ]
  },
  {
   "cell_type": "code",
   "execution_count": 23,
   "metadata": {
    "collapsed": false
   },
   "outputs": [
    {
     "data": {
      "image/png": "[encoded data removed]",
      "text/plain": [
       "<matplotlib.figure.Figure at 0x7f8e89efdeb8>"
      ]
     },
     "metadata": {},
     "output_type": "display_data"
    }
   ],
   "source": [
    "X = np.array([[0, 0], [1, 1], [1, 0], [0, 1]])\n",
    "y = np.array([[1], [1], [0], [0]])\n",
    "\n",
    "# ニューラルネットワークの構造を決める\n",
    "input_size = 2\n",
    "hidden_size = 2\n",
    "output_size = 1\n",
    "\n",
    "# 初期値設定（乱数で与える）\n",
    "W1 = np.random.randn(input_size,hidden_size)\n",
    "b1 = np.zeros((1, hidden_size))\n",
    "W2 = np.random.randn(hidden_size,output_size)\n",
    "b2 = np.zeros((1, output_size))\n",
    "\n",
    "#　学習率\n",
    "learning_rate = 0.01\n",
    "\n",
    "# setup parameters for batch operation\n",
    "epochs = 40000\n",
    "\n",
    "cost = []\n",
    "for _ in range(epochs):\n",
    "    #　フォワードプロパゲーション\n",
    "    layer1_z = np.dot(X, W1) + b1 \n",
    "    layer1_a = relu(layer1_z)          # relu activation\n",
    "\n",
    "    layer2_z = np.dot(layer1_a, W2) + b2\n",
    "    layer2_a = sigmoid(layer2_z)       # Sigmoid\n",
    "\n",
    "    output = layer2_a                  # layer2_a is the output\n",
    "\n",
    "    # Compute cost (Softmax Cross Entropy)\n",
    "    cost.append(-np.sum(y * np.log(output)))\n",
    "\n",
    "    #　バックプロパゲーション\n",
    "    delta2 = (output - y)*sigmoid_derivative(layer2_z)\n",
    "    delta_W2 = np.dot(layer1_a.T, delta2) \n",
    "    delta_b2 = np.sum(delta2, axis=0 ,keepdims=True)\n",
    "\n",
    "    delta1 = np.dot(delta2, W2.T) * relu_derivative(layer1_z)\n",
    "    delta_W1 = np.dot(X.T, delta1) \n",
    "    delta_b1 = np.sum(delta1, axis=0 ,keepdims=True)\n",
    "\n",
    "    # Update Parameters\n",
    "    W2 = W2 - learning_rate * delta_W2\n",
    "    b2 = b2 - learning_rate * delta_b2\n",
    "    W1 = W1 - learning_rate * delta_W1\n",
    "    b1 = b1 - learning_rate * delta_b1\n",
    "\n",
    "plt.plot(cost)\n",
    "plt.show()"
   ]
  },
  {
   "cell_type": "markdown",
   "metadata": {},
   "source": [
    "#### 学習結果を確認する\n",
    "正しく学習できたかどうか確認してみましょう。学習して入手したパラメータを使ってフォワードブロパゲーションを実行し、期待通りの学習ができているかどうか確認してみましょう。"
   ]
  },
  {
   "cell_type": "code",
   "execution_count": 24,
   "metadata": {
    "collapsed": false
   },
   "outputs": [
    {
     "name": "stdout",
     "output_type": "stream",
     "text": [
      "[[0.5000051 ]\n",
      " [0.499996  ]\n",
      " [0.50000202]\n",
      " [0.49999907]]\n"
     ]
    }
   ],
   "source": [
    "X = np.array([[0, 0], [1, 1], [1, 0], [0, 1]])\n",
    "\n",
    "#　フォワードプロパゲーション\n",
    "layer1_z = np.dot(X, W1) + b1 \n",
    "layer1_a = relu(layer1_z)          # relu activation\n",
    "\n",
    "layer2_z = np.dot(layer1_a, W2) + b2\n",
    "layer2_a = sigmoid(layer2_z)       # Sigmoid\n",
    "\n",
    "output = layer2_a                  # layer2_a is the output\n",
    "\n",
    "print(output)"
   ]
  },
  {
   "cell_type": "markdown",
   "metadata": {},
   "source": [
    "最初の２つの値が１に近く、最後の２つの値が０に近ければ学習に成功しています。"
   ]
  },
  {
   "cell_type": "markdown",
   "metadata": {},
   "source": [
    "### （発展課題）マルチクラス問題を解く"
   ]
  },
  {
   "cell_type": "markdown",
   "metadata": {},
   "source": [
    "ニューラルネットワークの最終層にsoftmaxを用いたニューラルネットワークを使ってマルチクラス分類問題を解いてみましょう。\n",
    "\n",
    "目的関数にクロスエントロピーを、最終層にsoftmaxを用いた場合、delta2は出力（output）と正解(y)との誤差「output - y」だけになります。"
   ]
  },
  {
   "cell_type": "code",
   "execution_count": 25,
   "metadata": {
    "collapsed": false
   },
   "outputs": [
    {
     "data": {
      "image/png": "[encoded data removed]",
      "text/plain": [
       "<matplotlib.figure.Figure at 0x7f8e89da17f0>"
      ]
     },
     "metadata": {},
     "output_type": "display_data"
    }
   ],
   "source": [
    "X = np.array([[0, 0], [1, 1], [1, 0], [0, 1]])\n",
    "y = np.array([[1, 0], [1, 0], [0, 1], [0, 1]])\n",
    "\n",
    "def softmax(x):\n",
    "    c = np.max(x)\n",
    "    exp_x = np.exp(x - c)\n",
    "    y = exp_x / np.sum(exp_x, axis=1, keepdims=True) \n",
    "    return y\n",
    "\n",
    "# ニューラルネットワークの構造を決める\n",
    "input_size = 2\n",
    "hidden_size = 10\n",
    "output_size = 2\n",
    "\n",
    "# 初期値設定（乱数で与える）\n",
    "W1 = np.random.randn(input_size,hidden_size)\n",
    "b1 = np.zeros((1, hidden_size))\n",
    "\n",
    "W2 = np.random.randn(hidden_size,output_size)\n",
    "b2 = np.zeros((1, output_size))\n",
    "\n",
    "#　学習率\n",
    "learning_rate = 0.1\n",
    "\n",
    "# setup parameters for batch operation\n",
    "epochs = 40000\n",
    "\n",
    "cost = []\n",
    "for _ in range(epochs):\n",
    "    #　フォワードプロパゲーション\n",
    "    layer1_z = np.dot(X, W1) + b1 \n",
    "    layer1_a = relu(layer1_z)          # relu activation\n",
    "\n",
    "    layer2_z = np.dot(layer1_a, W2) + b2\n",
    "    layer2_a = softmax(layer2_z)       # softmax\n",
    "\n",
    "    output = layer2_a                  # layer2_a is the output\n",
    "\n",
    "    # Compute cost (Softmax Cross Entropy)\n",
    "    cost.append(-np.sum(y * np.log(output)))\n",
    "\n",
    "    #　バックプロパゲーション\n",
    "    delta2 = (output - y)\n",
    "    delta_W2 = np.dot(layer1_a.T, delta2) \n",
    "    delta_b2 = np.sum(delta2, axis=0 ,keepdims=True)\n",
    "\n",
    "    delta1 = np.dot(delta2, W2.T) * relu_derivative(layer1_z)\n",
    "    delta_W1 = np.dot(X.T, delta1) \n",
    "    delta_b1 = np.sum(delta1, axis=0 ,keepdims=True)\n",
    "\n",
    "    # Update Parameters\n",
    "    W2 = W2 - learning_rate * delta_W2\n",
    "    b2 = b2 - learning_rate * delta_b2\n",
    "    W1 = W1 - learning_rate * delta_W1\n",
    "    b1 = b1 - learning_rate * delta_b1\n",
    "\n",
    "plt.plot(cost)\n",
    "plt.show()"
   ]
  },
  {
   "cell_type": "markdown",
   "metadata": {},
   "source": [
    "#### フォワードプロパゲーションで学習結果を確認してみよう"
   ]
  },
  {
   "cell_type": "code",
   "execution_count": 26,
   "metadata": {
    "collapsed": false
   },
   "outputs": [
    {
     "name": "stdout",
     "output_type": "stream",
     "text": [
      "[[9.99957084e-01 4.29157518e-05]\n",
      " [9.99993024e-01 6.97622258e-06]\n",
      " [1.38160336e-05 9.99986184e-01]\n",
      " [1.14683133e-05 9.99988532e-01]]\n"
     ]
    }
   ],
   "source": [
    "X = np.array([[0, 0], [1, 1], [1, 0], [0, 1]])\n",
    "\n",
    "#　フォワードプロパゲーション\n",
    "layer1_z = np.dot(X, W1) + b1 \n",
    "layer1_a = relu(layer1_z)          # relu activation\n",
    "\n",
    "layer2_z = np.dot(layer1_a, W2) + b2\n",
    "layer2_a = softmax(layer2_z)       # Softmax\n",
    "\n",
    "output = layer2_a                  # layer2_a is the output\n",
    "\n",
    "print(output)"
   ]
  },
  {
   "cell_type": "markdown",
   "metadata": {},
   "source": [
    "#### 学習結果を可視化してみましょう"
   ]
  },
  {
   "cell_type": "code",
   "execution_count": 27,
   "metadata": {
    "collapsed": false
   },
   "outputs": [
    {
     "name": "stderr",
     "output_type": "stream",
     "text": [
      "/opt/conda/lib/python3.5/site-packages/numpy/ma/core.py:6442: MaskedArrayFutureWarning: In the future the default for ma.minimum.reduce will be axis=0, not the current None, to match np.minimum.reduce. Explicitly pass 0 or None to silence this warning.\n",
      "  return self.reduce(a)\n",
      "/opt/conda/lib/python3.5/site-packages/numpy/ma/core.py:6442: MaskedArrayFutureWarning: In the future the default for ma.maximum.reduce will be axis=0, not the current None, to match np.maximum.reduce. Explicitly pass 0 or None to silence this warning.\n",
      "  return self.reduce(a)\n"
     ]
    },
    {
     "data": {
      "text/plain": [
       "(-1.0, 1.9800000000000026)"
      ]
     },
     "execution_count": 27,
     "metadata": {},
     "output_type": "execute_result"
    },
    {
     "data": {
      "image/png": "[encoded data removed]",
      "text/plain": [
       "<matplotlib.figure.Figure at 0x7f8e89daa470>"
      ]
     },
     "metadata": {},
     "output_type": "display_data"
    }
   ],
   "source": [
    "h = 0.02\n",
    "x_min, x_max = X[:, 0].min() - 1, X[:, 0].max() + 1\n",
    "y_min, y_max = X[:, 1].min() - 1, X[:, 1].max() + 1\n",
    "xx, yy = np.meshgrid(np.arange(x_min, x_max, h), np.arange(y_min, y_max, h))\n",
    "Z = np.dot(np.maximum(0, np.dot(np.c_[xx.ravel(), yy.ravel()], W1) + b1), W2) + b2\n",
    "Z = np.argmax(Z, axis=1)\n",
    "Z = Z.reshape(xx.shape)\n",
    "fig = plt.figure()\n",
    "plt.contourf(xx, yy, Z, cmap=plt.cm.Spectral, alpha=0.8)\n",
    "plt.scatter(X[:, 0], X[:, 1])\n",
    "plt.xlim(xx.min(), xx.max())\n",
    "plt.ylim(yy.min(), yy.max())"
   ]
  },
  {
   "cell_type": "markdown",
   "metadata": {},
   "source": [
    "このニューラルネットワークを利用すれば、実際にMNISTの画像の分類問題を解くことができます。発展課題としてチャレンジしてみてください。"
   ]
  },
  {
   "cell_type": "code",
   "execution_count": null,
   "metadata": {
    "collapsed": true
   },
   "outputs": [],
   "source": []
  }
 ],
 "metadata": {
  "anaconda-cloud": {},
  "kernelspec": {
   "display_name": "Python [default]",
   "language": "python",
   "name": "python3"
  },
  "language_info": {
   "codemirror_mode": {
    "name": "ipython",
    "version": 3
   },
   "file_extension": ".py",
   "mimetype": "text/x-python",
   "name": "python",
   "nbconvert_exporter": "python",
   "pygments_lexer": "ipython3",
   "version": "3.5.2"
  },
  "toc": {
   "nav_menu": {
    "height": "336px",
    "width": "252px"
   },
   "navigate_menu": true,
   "number_sections": true,
   "sideBar": true,
   "threshold": 4,
   "toc_cell": false,
   "toc_section_display": "block",
   "toc_window_display": true
  }
 },
 "nbformat": 4,
 "nbformat_minor": 2
}
