{
 "cells": [
  {
   "cell_type": "markdown",
   "metadata": {},
   "source": [
    "# Step8 演習02 ニューラルネットワークの学習\n",
    "---"
   ]
  },
  {
   "cell_type": "markdown",
   "metadata": {},
   "source": [
    "ニューラルネットワークで分類問題を解くためには、各ニューロンを結合する重みやバイアスといったパラメータを求める必要があります。\n",
    "\n",
    "このパラメータを求めるプロセスを「学習」と呼びます。\n",
    "\n",
    "Step8 演習01では既知のものとして与えられていたパラメータを、scikit-learn の MLPClassifierを用いてこれらの係数を求めてみましょう。\n",
    "\n",
    "**はじめに**\n",
    "- for文やwhile文の利用は明示的な利用指示がない場所での使用は避けてください。\n",
    "\n",
    "**本演習の目的**\n",
    "- scikit-learn の MLPClassifierを使ってニューラルネットワークのモデルを構築する。\n",
    "- 構築したニューラルネットワークから学習後のパラメータを取り出して、中身を確認・利用する。"
   ]
  },
  {
   "cell_type": "markdown",
   "metadata": {},
   "source": [
    "## ライブラリのインポート"
   ]
  },
  {
   "cell_type": "markdown",
   "metadata": {},
   "source": [
    "まずはじめに、利用するライブラリのインポートを行います。\n",
    "\n",
    "- [NumPy](http://www.numpy.org) 数値計算を行うための基本パッケージの公式ドキュメント\n",
    "- [Matplotlib](http://matplotlib.org) グラフ描画ライブラリの基本パッケージの公式ドキュメント\n",
    "- [scikit-learn](http://scikit-learn.org/stable/index.html) Pythonのオープンソース機械学習ライブラリの公式ドキュメント\n",
    "\n",
    "ドキュメントには有用な情報が書き記されています。何か迷ったときには必ずドキュメントに戻ってくるようにしましょう。\n",
    "\n",
    "次のセルをそのまま実行（\"SHIFT\" + \"ENTER\"）してください。コードが書いてあるセルは**上から順番に**順次実行してください。\n",
    "\n",
    "** 注意： **初めてmatplotlibを使うユーザーは、フォント一覧のキャッシュが存在しないため、このセルの実行でWarningが出ます。もう一度実行すると、すでにキャッシュができているので、Warningなく走ります。"
   ]
  },
  {
   "cell_type": "code",
   "execution_count": 1,
   "metadata": {
    "collapsed": true
   },
   "outputs": [],
   "source": [
    "import numpy as np\n",
    "import matplotlib.pyplot as plt\n",
    "%matplotlib inline\n",
    "from sklearn.datasets import fetch_mldata\n",
    "from sklearn.neural_network import MLPClassifier"
   ]
  },
  {
   "cell_type": "markdown",
   "metadata": {},
   "source": [
    "## 線形分離不可能なデータセット"
   ]
  },
  {
   "cell_type": "markdown",
   "metadata": {},
   "source": [
    "Step8 演習01でも取り扱った線形分離不可能なデータセットの例としてXNORを使います。"
   ]
  },
  {
   "cell_type": "markdown",
   "metadata": {},
   "source": [
    "<table style=\"width:30%\">\n",
    "\n",
    "\t<thead>\n",
    "\t<tr>\n",
    "\t\t<th >入力$X_1$</th>\n",
    "\t\t<th >入力$X_2$</th>\n",
    "\t\t<th >出力$y$</th>\n",
    "\t</tr>\n",
    "\t</thead>\n",
    "\n",
    "  <tr>\n",
    "    <td>0</td>\n",
    "    <td> 0 </td> \n",
    "    <td> 1 </td> \n",
    "  </tr>\n",
    "  \n",
    "    <tr>\n",
    "    <td>1</td>\n",
    "    <td> 1 </td> \n",
    "    <td> 1 </td> \n",
    "  </tr>\n",
    "  \n",
    "    <tr>\n",
    "    <td>0</td>\n",
    "    <td> 1 </td> \n",
    "    <td> 0 </td> \n",
    "  </tr>\n",
    " \n",
    "     <tr>\n",
    "    <td>1</td>\n",
    "    <td> 0 </td> \n",
    "    <td> 0 </td> \n",
    "  </tr>\n",
    "  \n",
    "</table>"
   ]
  },
  {
   "cell_type": "code",
   "execution_count": 2,
   "metadata": {
    "collapsed": true
   },
   "outputs": [],
   "source": [
    "x = np.array([[0, 0], [1, 1], [1, 0], [0, 1]])\n",
    "y = np.array([1, 1, 0, 0])\n",
    "X_train, X_test = x, x  #訓練データとテストデータ\n",
    "y_train, y_test = y, y  #訓練データとテストデータの正解"
   ]
  },
  {
   "cell_type": "code",
   "execution_count": 3,
   "metadata": {
    "collapsed": false
   },
   "outputs": [
    {
     "data": {
      "text/plain": [
       "array([[0, 0],\n",
       "       [1, 1],\n",
       "       [1, 0],\n",
       "       [0, 1]])"
      ]
     },
     "execution_count": 3,
     "metadata": {},
     "output_type": "execute_result"
    }
   ],
   "source": [
    "X_train"
   ]
  },
  {
   "cell_type": "code",
   "execution_count": 4,
   "metadata": {
    "collapsed": false
   },
   "outputs": [
    {
     "data": {
      "text/plain": [
       "array([1, 1, 0, 0])"
      ]
     },
     "execution_count": 4,
     "metadata": {},
     "output_type": "execute_result"
    }
   ],
   "source": [
    "y_train"
   ]
  },
  {
   "cell_type": "markdown",
   "metadata": {},
   "source": [
    "## ニューラルネットワークのモデル"
   ]
  },
  {
   "cell_type": "markdown",
   "metadata": {},
   "source": [
    "下記の条件で、ニューラルネットワークのモデルを構築します：\n",
    "\n",
    "- 入力層のニューロン数 ２個\n",
    "- 隠れ層のニューロン数 ２個\n",
    "- 出力層のニューロン数 １個\n",
    "\n",
    "**出力が１つ**のニューラルネットワークモデルとします。\n",
    "\n",
    "ここではニューラルネットワークのモデルを構築するのにscikit-learnの「MLPClassifier」を利用します。\n",
    "\n",
    "「MLPClassifier」はStep4 演習05でも利用したことを思い出しましょう。\n",
    "\n",
    "- [sklearn.neural_network.MLPClassifier](http://scikit-learn.org/stable/modules/generated/sklearn.neural_network.MLPClassifier.html)\n",
    "\n",
    "MLPClassifier には多くの引数が用意されています。詳細は公式ドキュメントを参考にしてください。"
   ]
  },
  {
   "cell_type": "markdown",
   "metadata": {},
   "source": [
    "上で定義したニューラルネットワークのモデルのコードは下のセルのコードブロックのように記述できます。\n",
    "\n",
    "下のセルを実行すると次のテキストが出力されます。\n",
    "\n",
    "- Training set score: 1.000000\n",
    "- Test set score: 1.000000\n",
    "\n",
    "**各スコアが1にならない場合は、スコアが1になるまで何度かセルを実行してみてみてください。**"
   ]
  },
  {
   "cell_type": "code",
   "execution_count": 5,
   "metadata": {
    "collapsed": false
   },
   "outputs": [
    {
     "name": "stdout",
     "output_type": "stream",
     "text": [
      "Training set score: 0.750000\n",
      "Test set score: 0.750000\n"
     ]
    },
    {
     "data": {
      "image/png": "[encoded data removed]",
      "text/plain": [
       "<matplotlib.figure.Figure at 0x7f5f4aef21d0>"
      ]
     },
     "metadata": {},
     "output_type": "display_data"
    }
   ],
   "source": [
    "#ニューラルネットワークのインスタンスを作成\n",
    "mlp = MLPClassifier(hidden_layer_sizes=(2), #隠れ層のユニット数\n",
    "                    activation='relu',  #隠れ層の活性化関数はReLU\n",
    "                    max_iter=10000,  #学習回数\n",
    "                    alpha=0, #L2正則化パラメータ\n",
    "                    solver='sgd',# 学習アルゴリズム（確率的勾配降下法）\n",
    "                    verbose=0, #学習ログの表示 ０を１に変更すると表示されます \n",
    "                    learning_rate_init=0.01)#学習率\n",
    "\n",
    "#作成したインスタンスを使って学習\n",
    "#引数に訓練データと正解ラベルを渡す\n",
    "mlp.fit(X_train, y_train)\n",
    "\n",
    "print(\"Training set score: %f\" % mlp.score(X_train, y_train))\n",
    "print(\"Test set score: %f\" % mlp.score(X_test, y_test))\n",
    "\n",
    "plt.plot(mlp.loss_curve_) \n",
    "plt.show()"
   ]
  },
  {
   "cell_type": "markdown",
   "metadata": {},
   "source": [
    "**「Training set score」と「Test set score」の出力がそれぞれ「１」**になったことを確認したら次へ進んでください。"
   ]
  },
  {
   "cell_type": "markdown",
   "metadata": {},
   "source": [
    "## 学習で獲得したパラメータを使ってみよう"
   ]
  },
  {
   "cell_type": "markdown",
   "metadata": {},
   "source": [
    "学習の結果手に入った係数は「 mlp.coefs\\_ 」、バイアスは「 mlp.intercepts_ 」に格納されています。\n",
    "\n",
    "獲得したパラメータを用いてフォワードプロバゲーションを実行すると、出力結果が期待通りになっていることを確認しましょう。\n",
    "\n",
    "つまり、入力 $x$ が [0, 0] や [1, 1] である場合は出力は「１」に近く、[0, 1] や [1, 0] である場合、 出力が「０」に近いとうことを確認します。"
   ]
  },
  {
   "cell_type": "markdown",
   "metadata": {},
   "source": [
    "### 重み $w$ とバイアス $b$ を確認してみる"
   ]
  },
  {
   "cell_type": "markdown",
   "metadata": {},
   "source": [
    "重み $w$ バイアス $b$ の各パラメータの中身を確認してみましょう。\n",
    "- 重み$w$：mlp.coefs_\n",
    "- バイアス$b$：mlp.intercepts_"
   ]
  },
  {
   "cell_type": "code",
   "execution_count": 6,
   "metadata": {
    "collapsed": false
   },
   "outputs": [
    {
     "data": {
      "text/plain": [
       "array([[-0.16989483,  1.54487997],\n",
       "       [ 0.57515367, -1.54939839]])"
      ]
     },
     "execution_count": 6,
     "metadata": {},
     "output_type": "execute_result"
    }
   ],
   "source": [
    "#入力層と隠れ層の間の重みw1\n",
    "mlp.coefs_[0]"
   ]
  },
  {
   "cell_type": "code",
   "execution_count": 7,
   "metadata": {
    "collapsed": false
   },
   "outputs": [
    {
     "data": {
      "text/plain": [
       "array([-0.84114283, -0.0064463 ])"
      ]
     },
     "execution_count": 7,
     "metadata": {},
     "output_type": "execute_result"
    }
   ],
   "source": [
    "#入力層と隠れ層の間のバイアスb1\n",
    "mlp.intercepts_[0]"
   ]
  },
  {
   "cell_type": "code",
   "execution_count": 8,
   "metadata": {
    "collapsed": false
   },
   "outputs": [
    {
     "data": {
      "text/plain": [
       "array([[-1.15838371],\n",
       "       [-2.09117987]])"
      ]
     },
     "execution_count": 8,
     "metadata": {},
     "output_type": "execute_result"
    }
   ],
   "source": [
    "#隠れ層と出力層の間の重みw2\n",
    "mlp.coefs_[1]"
   ]
  },
  {
   "cell_type": "code",
   "execution_count": 9,
   "metadata": {
    "collapsed": false
   },
   "outputs": [
    {
     "data": {
      "text/plain": [
       "array([0.54462887])"
      ]
     },
     "execution_count": 9,
     "metadata": {},
     "output_type": "execute_result"
    }
   ],
   "source": [
    "#隠れ層と出力層の間のバイアスb2\n",
    "mlp.intercepts_[1]"
   ]
  },
  {
   "cell_type": "markdown",
   "metadata": {},
   "source": [
    "いま確認したパラメータは下記の図の $w_1,b_1,w_2,b_2$ に対応しています。"
   ]
  },
  {
   "cell_type": "markdown",
   "metadata": {},
   "source": [
    "<div align=\"center\"  style=\"width:75%\">\n",
    "<img src=\"./dataStep8/forward_prop.png\"></div>"
   ]
  },
  {
   "cell_type": "markdown",
   "metadata": {},
   "source": [
    "## 活性化関数"
   ]
  },
  {
   "cell_type": "markdown",
   "metadata": {},
   "source": [
    "次にニューラルネットワークで使う活性化関数の準備をします。"
   ]
  },
  {
   "cell_type": "markdown",
   "metadata": {},
   "source": [
    "** 【課題３】 ** ReLU関数の出力を返す関数 relu(x) を実装してください。\n",
    "\n",
    "**Note：** ReLU関数の定義です。\n",
    "$$g(x)=\\max\\{0,x\\}$$\n",
    "\n",
    "ReLU関数は入力が正のときその値をそのまま出力し、入力が負のときゼロを出力する関数です。"
   ]
  },
  {
   "cell_type": "code",
   "execution_count": 10,
   "metadata": {
    "collapsed": true
   },
   "outputs": [],
   "source": [
    "#Coursemale-02 Step8 QuestionNumber3 d9ef667d390051eafe12574f0d85aaf3\n",
    "def relu(x):\n",
    "###############ここを穴埋めしてください###############\n",
    "    y = np.maximum(0, x)\n",
    "######################################################\n",
    "    return y"
   ]
  },
  {
   "cell_type": "markdown",
   "metadata": {},
   "source": [
    "** 左上の保存マークをクリックした後**、次のセルをShift+Enterで実行して採点します。"
   ]
  },
  {
   "cell_type": "code",
   "execution_count": 11,
   "metadata": {
    "collapsed": false
   },
   "outputs": [
    {
     "name": "stdout",
     "output_type": "stream",
     "text": [
      "Congratulations!\n",
      "We give you 10 points out of 10 points.\n",
      "\n"
     ]
    }
   ],
   "source": [
    "%%bash\n",
    "./validation_client.py male-02 8 3 Step8_02.ipynb api.internal.zero2one.jp"
   ]
  },
  {
   "cell_type": "markdown",
   "metadata": {},
   "source": [
    "** 【課題４】 ** シグモイド関数の出力を返す関数 sigmoid(x) を実装してください。\n",
    "\n",
    "**Note:**\n",
    "シグモイド関数の定義です。\n",
    "\n",
    "$$\\sigma{(x)}=\\frac{1}{1+e^{-x}}$$"
   ]
  },
  {
   "cell_type": "code",
   "execution_count": 12,
   "metadata": {
    "collapsed": true
   },
   "outputs": [],
   "source": [
    "#Coursemale-02 Step8 QuestionNumber4 1e04a015dc13cdf0a4b1acb1d53603db\n",
    "def sigmoid(x):\n",
    "###############ここを穴埋めしてください###############\n",
    "    y = 1 / (1 + np.exp(-x))\n",
    "######################################################\n",
    "    return y"
   ]
  },
  {
   "cell_type": "markdown",
   "metadata": {},
   "source": [
    "** 左上の保存マークをクリックした後**、次のセルをShift+Enterで実行して採点します。"
   ]
  },
  {
   "cell_type": "code",
   "execution_count": 13,
   "metadata": {
    "collapsed": false
   },
   "outputs": [
    {
     "name": "stdout",
     "output_type": "stream",
     "text": [
      "Congratulations!\n",
      "We give you 10 points out of 10 points.\n",
      "\n"
     ]
    }
   ],
   "source": [
    "%%bash\n",
    "./validation_client.py male-02 8 4 Step8_02.ipynb api.internal.zero2one.jp"
   ]
  },
  {
   "cell_type": "markdown",
   "metadata": {},
   "source": [
    "## フォワードプロパゲーション"
   ]
  },
  {
   "cell_type": "markdown",
   "metadata": {},
   "source": [
    "次のセルには上の画像の通りに構築したニューラルネットワークのモデルコードを書いています。\n",
    "\n",
    "ここでは入力データを[1, 1]としています。\n",
    "\n",
    "**このときの期待される出力はどのような値**なのか考えた上で次のセルを実行してみてください。"
   ]
  },
  {
   "cell_type": "code",
   "execution_count": 14,
   "metadata": {
    "collapsed": false
   },
   "outputs": [
    {
     "name": "stdout",
     "output_type": "stream",
     "text": [
      "[0.63288855]\n"
     ]
    }
   ],
   "source": [
    "W1 = mlp.coefs_[0]\n",
    "b1 = mlp.intercepts_[0]\n",
    "W2 = mlp.coefs_[1]\n",
    "b2 = mlp.intercepts_[1]\n",
    "\n",
    "#　フォワードプロパゲーション\n",
    "#入力\n",
    "x = np.array([1, 1]) #[0, 0], [1, 1], [1, 0], [0, 1]\n",
    "\n",
    "#隠れ層\n",
    "layer1_z = np.dot(x, W1) + b1\n",
    "layer1_a = relu(layer1_z) # relu Activation\n",
    "#出力\n",
    "layer2_z = np.dot(layer1_a, W2) + b2\n",
    "layer2_a = sigmoid(layer2_z) # sigmoid\n",
    "\n",
    "print(layer2_a)"
   ]
  },
  {
   "cell_type": "markdown",
   "metadata": {},
   "source": [
    "上記コードのように入力 $x$ を１づつニューラルネットワークに与えるのではなく、下記のように **$x$ の値をまとめて入力して、結果をまとめて手に入れる**こともできます。"
   ]
  },
  {
   "cell_type": "code",
   "execution_count": 15,
   "metadata": {
    "collapsed": false
   },
   "outputs": [
    {
     "name": "stdout",
     "output_type": "stream",
     "text": [
      "[[0.63288855]\n",
      " [0.63288855]\n",
      " [0.06461494]\n",
      " [0.63288855]]\n"
     ]
    }
   ],
   "source": [
    "W1 = mlp.coefs_[0]\n",
    "b1 = mlp.intercepts_[0]\n",
    "W2 = mlp.coefs_[1]\n",
    "b2 = mlp.intercepts_[1]\n",
    "\n",
    "#　フォワードプロパゲーション\n",
    "#入力をまとめて与える\n",
    "x = np.array([[0, 0], [1, 1], [1, 0], [0, 1]])\n",
    "\n",
    "#隠れ層\n",
    "layer1_z = np.dot(x, W1) + b1\n",
    "layer1_a = relu(layer1_z)          # relu Activation\n",
    "\n",
    "#出力\n",
    "layer2_z = np.dot(layer1_a, W2) + b2\n",
    "layer2_a = sigmoid(layer2_z)       # sigmoid\n",
    "\n",
    "print(layer2_a)"
   ]
  },
  {
   "cell_type": "markdown",
   "metadata": {},
   "source": [
    "出力の最初の２つが１に近く、残りの２つがゼロに近ければ、ニューラルネットワークでは想定していた分類結果である $y = [1,1,0,0]$ を予測できたことになります。\n",
    "\n",
    "改めて下の表で入力とそのときの出力の関係を確認してみましょう。"
   ]
  },
  {
   "cell_type": "markdown",
   "metadata": {},
   "source": [
    "<table style=\"width:30%\">\n",
    "\n",
    "\t<thead>\n",
    "\t<tr>\n",
    "\t\t<th >入力$X_1$</th>\n",
    "\t\t<th >入力$X_2$</th>\n",
    "\t\t<th >出力$y$</th>\n",
    "\t</tr>\n",
    "\t</thead>\n",
    "\n",
    "  <tr>\n",
    "    <td>0</td>\n",
    "    <td> 0 </td> \n",
    "    <td> 1 </td> \n",
    "  </tr>\n",
    "  \n",
    "    <tr>\n",
    "    <td>0</td>\n",
    "    <td> 1 </td> \n",
    "    <td> 0 </td> \n",
    "  </tr>\n",
    "  \n",
    "    <tr>\n",
    "    <td>1</td>\n",
    "    <td> 0 </td> \n",
    "    <td> 0 </td> \n",
    "  </tr>\n",
    " \n",
    "     <tr>\n",
    "    <td>1</td>\n",
    "    <td> 1 </td> \n",
    "    <td> 1 </td> \n",
    "  </tr>\n",
    "  \n",
    "</table>"
   ]
  },
  {
   "cell_type": "markdown",
   "metadata": {},
   "source": [
    "さて、これまでは出力層のニューロンの数を「１」として解きましたが、出力層のニューロンの数を増やしたモデル、マルチクラス分類問題について考えていきたいと思います。"
   ]
  },
  {
   "cell_type": "markdown",
   "metadata": {},
   "source": [
    "## マルチクラス問題として解いてみよう"
   ]
  },
  {
   "cell_type": "markdown",
   "metadata": {},
   "source": [
    "上記の方法では出力を１つ（値を１つ）だけ用意して、その結果が「０に近いか1に近いか」という確率の問題として解きました。\n",
    "\n",
    "同じ問題を出力を２つ（値を２つ）用意することで、マルチクラス問題として解くことができます。\n",
    "\n",
    "たとえば、正解が1の場合は[1, 0] という２つの数値を出力し、正解が0の場合は [0, 1]という２つの数値を出力するように学習すれば、先ほどの１つの出力だけで解いていた問題を解くことができるわけです。\n",
    "\n",
    "この考え方は２値分類問題を解くだけでなく、マルチクラス問題（複数のクラスを分類する問題）を解くときにも利用できます。\n",
    "\n",
    "つまり、複数の出力（数値）を用いれば、マルチクラス問題を解くことができるわけです。\n",
    "\n",
    "たとえば、下図のように各出力を分類対象となるクラスに対応させてマルチクラス問題を解きます：\n",
    "<br>\n",
    "<br>\n",
    "\n",
    "<div align=\"center\"  style=\"width:75%\">\n",
    "<img src=\"./dataStep8/mulchclass_01.png\"></div>"
   ]
  },
  {
   "cell_type": "markdown",
   "metadata": {},
   "source": [
    "一方、 このように出力を複数用意してしまうと、そのままでは出力を確率解釈できません。\n",
    "\n",
    "ロジステック回帰でシグモイド関数を使って出力を確率として扱えるようになったのと同様、少し工夫することで出力を確率とみなすことができるようになります。\n",
    "\n",
    "具体的には下記のようにsoftmax関数を利用します。\n",
    "\n",
    "<div align=\"center\"  style=\"width:65%\">\n",
    "<img src=\"./dataStep8/softmax.png\"></div>\n",
    "\n",
    "softmaxは数式から分かるように簡単に計算できます。\n",
    "\n",
    "各出力値をexpの肩に乗せた値をすべて合計し、それを分母にします。\n",
    "\n",
    "特定の出力をexpの肩に乗せた値を分子にして分母で割ったものは、その出力が全体のどの程度の割合になっているのかということを表現しているので、これは確率として解釈できます。\n",
    "\n",
    "したがって、ニューラルネットワークの最終段でsoftmax関数を使うことにより、各出力を確率解釈できる値が入手できるわけです。\n"
   ]
  },
  {
   "cell_type": "markdown",
   "metadata": {},
   "source": [
    "** 【課題５】 ** softmax関数の出力を返す関数 softmax(x) を実装してください。ここでは、マルチクラス問題として複数のデータを扱うので行成分ごとにsoftmax関数を適用させます。詳しくは採点実行セル下の出力結果を確認してください。\n",
    "\n",
    "**Note:**\n",
    "softmax関数の定義です。\n",
    "\n",
    "$${\\rm softmax}(x)_{i}=\\frac{e^{x_i}}{\\displaystyle\\sum_{j=1}^{n}e^{x_j}}　(i=1,2,\\ldots,n)$$"
   ]
  },
  {
   "cell_type": "code",
   "execution_count": 16,
   "metadata": {
    "collapsed": true
   },
   "outputs": [],
   "source": [
    "#Coursemale-02 Step8 QuestionNumber5 a16a4a75003fb1370b56733d52cd18a5\n",
    "def softmax(x):\n",
    "###############ここを穴埋めしてください###############\n",
    "    exp_x = np.exp(x)\n",
    "    y = exp_x / np.sum(exp_x, axis=1, keepdims=True)\n",
    "######################################################\n",
    "    return y"
   ]
  },
  {
   "cell_type": "markdown",
   "metadata": {},
   "source": [
    "** 左上の保存マークをクリックした後**、次のセルをShift+Enterで実行して採点します。"
   ]
  },
  {
   "cell_type": "code",
   "execution_count": 17,
   "metadata": {
    "collapsed": false
   },
   "outputs": [
    {
     "name": "stdout",
     "output_type": "stream",
     "text": [
      "Congratulations!\n",
      "We give you 10 points out of 10 points.\n",
      "\n"
     ]
    }
   ],
   "source": [
    "%%bash\n",
    "./validation_client.py male-02 8 5 Step8_02.ipynb api.internal.zero2one.jp"
   ]
  },
  {
   "cell_type": "markdown",
   "metadata": {},
   "source": [
    "ソフトマックス関数に与える「x」はベクトルです。このベクトルの各値を確率解釈できる値に変えてくれるわけです。\n",
    "\n",
    "具体的な値を与えて試してみましょう。また、出力された値を合計すると「１」になることも分かります。"
   ]
  },
  {
   "cell_type": "code",
   "execution_count": 18,
   "metadata": {
    "collapsed": false
   },
   "outputs": [
    {
     "name": "stdout",
     "output_type": "stream",
     "text": [
      "softmax:\n",
      " [[0.93623955 0.01714783 0.04661262]\n",
      " [0.09003057 0.24472847 0.66524096]]\n",
      "softmaxの出力をすべて合計:\n",
      " 2.0\n",
      "softmaxの出力を行方向ごとに合計 (axis=1):\n",
      " [1. 1.]\n"
     ]
    }
   ],
   "source": [
    "a = np.array([[6, 2, 3], [1, 2, 3]]) #サンプルデータ\n",
    "print('softmax:\\n', softmax(a))\n",
    "print('softmaxの出力をすべて合計:\\n', np.sum(softmax(a)))\n",
    "print('softmaxの出力を行方向ごとに合計 (axis=1):\\n', np.sum(softmax(a), axis=1))"
   ]
  },
  {
   "cell_type": "markdown",
   "metadata": {},
   "source": [
    "**Expected Output**: <br>\n",
    "softmax:<br>\n",
    " [[0.93623955 0.01714783 0.04661262]<br>\n",
    " [0.09003057 0.24472847 0.66524096]]<br>\n",
    "softmaxの出力をすべて合計:<br>\n",
    " 2.0<br>\n",
    "softmaxの出力を行方向ごとに合計 (axis=1):<br>\n",
    " [1. 1.]"
   ]
  },
  {
   "cell_type": "markdown",
   "metadata": {},
   "source": [
    "### ２値分類問題をマルチクラス問題として解いてみよう"
   ]
  },
  {
   "cell_type": "markdown",
   "metadata": {},
   "source": [
    "下記のコードブロックを実行し、実際に２値分類問題が解けることを確認して見ましょう。\n",
    "\n",
    "下のセルを実行すると次のテキストが出力されます。\n",
    "\n",
    "- Training set score: 1.000000\n",
    "- Test set score: 1.000000\n",
    "\n",
    "**各スコアが1にならない場合は、スコアが1になるまで何度かセルを実行してみてみてください。**"
   ]
  },
  {
   "cell_type": "code",
   "execution_count": 19,
   "metadata": {
    "collapsed": false
   },
   "outputs": [
    {
     "name": "stdout",
     "output_type": "stream",
     "text": [
      "Training set score: 0.000000\n",
      "Test set score: 0.000000\n"
     ]
    },
    {
     "data": {
      "image/png": "[encoded data removed]",
      "text/plain": [
       "<matplotlib.figure.Figure at 0x7f5f14fe2e48>"
      ]
     },
     "metadata": {},
     "output_type": "display_data"
    }
   ],
   "source": [
    "x = np.array([[0, 0], [1, 1], [1, 0], [0, 1]])\n",
    "y = np.array([[1, 0], [1, 0], [0, 1], [0, 1]])\n",
    "X_train, X_test = x, x\n",
    "y_train, y_test = y, y\n",
    "\n",
    "#ニューラルネットワークのインスタンスを作成\n",
    "mlp = MLPClassifier(hidden_layer_sizes=(2),\n",
    "                    activation='relu',\n",
    "                    max_iter=10000,\n",
    "                    alpha=0,\n",
    "                    solver='sgd',\n",
    "                    verbose=0,\n",
    "                    learning_rate_init=0.01)\n",
    "\n",
    "#作成したインスタンスを使って学習\n",
    "#引数に訓練データと正解ラベルを渡す\n",
    "mlp.fit(X_train, y_train)\n",
    "\n",
    "print(\"Training set score: %f\" % mlp.score(X_train, y_train))\n",
    "print(\"Test set score: %f\" % mlp.score(X_test, y_test))\n",
    "\n",
    "plt.plot(mlp.loss_curve_)\n",
    "plt.show()"
   ]
  },
  {
   "cell_type": "markdown",
   "metadata": {},
   "source": [
    "**「Training set score」と「Test set score」の出力がそれぞれ「１」**になったことを確認したら次のセルを実行し、出力を確認しましょう。\n",
    "\n",
    "** 出力層の活性化関数としてsoftmax関数を利用します。 **"
   ]
  },
  {
   "cell_type": "code",
   "execution_count": 20,
   "metadata": {
    "collapsed": false
   },
   "outputs": [
    {
     "name": "stdout",
     "output_type": "stream",
     "text": [
      "[[0.51847667 0.48152333]\n",
      " [0.51847667 0.48152333]\n",
      " [0.51847667 0.48152333]\n",
      " [0.51847667 0.48152333]]\n"
     ]
    }
   ],
   "source": [
    "W1 = mlp.coefs_[0]\n",
    "b1 = mlp.intercepts_[0]\n",
    "W2 = mlp.coefs_[1]\n",
    "b2 = mlp.intercepts_[1]\n",
    "\n",
    "#　フォワードプロパゲーション\n",
    "#入力\n",
    "x = np.array([[0, 0], [1, 1], [1, 0], [0, 1]])\n",
    "\n",
    "#隠れ層\n",
    "layer1_z = np.dot(x, W1) + b1\n",
    "layer1_a = relu(layer1_z)          # relu Activation\n",
    "\n",
    "#出力\n",
    "layer2_z = np.dot(layer1_a, W2) + b2\n",
    "layer2_a = softmax(layer2_z) # softmax\n",
    "\n",
    "print(layer2_a)"
   ]
  },
  {
   "cell_type": "markdown",
   "metadata": {},
   "source": [
    "出力の最初の２つが[１, 0]に近く、残りの２つが[0, 1]に近ければ、想定していた分類結果である $y = [1, 0], [1, 0], [0, 1], [0, 1]$ を予測できたことになります。"
   ]
  },
  {
   "cell_type": "markdown",
   "metadata": {},
   "source": [
    "<div align=\"center\"  style=\"width:25%\">\n",
    "<img src=\"./dataStep8/id_od_01.png\"></div>"
   ]
  },
  {
   "cell_type": "markdown",
   "metadata": {},
   "source": [
    "## 学習結果の可視化"
   ]
  },
  {
   "cell_type": "markdown",
   "metadata": {},
   "source": [
    "もともとのxの入力が２次元でどのようにマップされているのか確認し、\n",
    "\n",
    "その後、ニューラルネットワークを通した結果どのようにマップが変化したのか視覚的に確認してみましょう。"
   ]
  },
  {
   "cell_type": "code",
   "execution_count": 21,
   "metadata": {
    "collapsed": false
   },
   "outputs": [
    {
     "data": {
      "image/png": "[encoded data removed]",
      "text/plain": [
       "<matplotlib.figure.Figure at 0x7f5f1907d7f0>"
      ]
     },
     "metadata": {},
     "output_type": "display_data"
    }
   ],
   "source": [
    "plt.scatter(x[0][0], x[0][1], s=200, color='blue',  marker='o', label='1')\n",
    "plt.scatter(x[1][0], x[1][1], s=200, color='blue', marker='o')\n",
    "plt.scatter(x[2][0], x[2][1], s=200, color='red', marker='x',  label='0')\n",
    "plt.scatter(x[3][0], x[3][1], s=200, color='red', marker='x')\n",
    "plt.legend(bbox_to_anchor=(1.05, 1), loc='upper left', borderaxespad=0, fontsize=18)\n",
    "plt.show()"
   ]
  },
  {
   "cell_type": "markdown",
   "metadata": {},
   "source": [
    "入力xは線形分離不可能な状態であることが確認できます。\n",
    "\n",
    "下記のコードを実行し、ニューラルネットワークを通した結果（ニューラルネットワークの出力）がどのようにマップされているのか確認してみましょう。\n",
    "\n",
    "赤のXと青の●が直線で分離できるようにマップされていることを確認しましょう。\n",
    "\n",
    "このように、線形分離できるように入力をマッピングし直すのがニューラルネットワークの働きだとみなすことができます。"
   ]
  },
  {
   "cell_type": "code",
   "execution_count": 22,
   "metadata": {
    "collapsed": false
   },
   "outputs": [
    {
     "data": {
      "image/png": "[encoded data removed]",
      "text/plain": [
       "<matplotlib.figure.Figure at 0x7f5f43d38358>"
      ]
     },
     "metadata": {},
     "output_type": "display_data"
    }
   ],
   "source": [
    "plt.scatter(layer2_a[0][0], layer2_a[0][1], s=200, color='blue',  marker='o', label='1')\n",
    "plt.scatter(layer2_a[1][0], layer2_a[1][1], s=200, color='blue', marker='o')\n",
    "plt.scatter(layer2_a[2][0], layer2_a[2][1], s=200, color='red', marker='x',  label='0')\n",
    "plt.scatter(layer2_a[3][0], layer2_a[3][1], s=200, color='red', marker='x')\n",
    "plt.legend(bbox_to_anchor=(1.05, 1), loc='upper left', borderaxespad=0, fontsize=18)\n",
    "plt.show()"
   ]
  },
  {
   "cell_type": "markdown",
   "metadata": {},
   "source": [
    "隠れ層の出力（layer1_a）の状態がどのようになっているのかも一緒に確認しておきましょう。"
   ]
  },
  {
   "cell_type": "code",
   "execution_count": 23,
   "metadata": {
    "collapsed": false
   },
   "outputs": [
    {
     "data": {
      "image/png": "[encoded data removed]",
      "text/plain": [
       "<matplotlib.figure.Figure at 0x7f5f15246550>"
      ]
     },
     "metadata": {},
     "output_type": "display_data"
    }
   ],
   "source": [
    "plt.scatter(layer1_a[0][0], layer1_a[0][1], s=200, color='blue',  marker='o', label='1')\n",
    "plt.scatter(layer1_a[1][0], layer1_a[1][1], s=200, color='blue', marker='o')\n",
    "plt.scatter(layer1_a[2][0], layer1_a[2][1], s=200, color='red', marker='x',  label='0')\n",
    "plt.scatter(layer1_a[3][0], layer1_a[3][1], s=200, color='red', marker='x')\n",
    "plt.legend(bbox_to_anchor=(1.05, 1), loc='upper left', borderaxespad=0, fontsize=18)\n",
    "plt.show()"
   ]
  },
  {
   "cell_type": "markdown",
   "metadata": {},
   "source": [
    "## 隠れ層のニューロンの数を増やす（次元を上げる）\n",
    "計算量は増しますが、隠れ層の次元を上げればそれだけ入力xを線形分離しやすい場所にマッピングする自由度が上がり分離性能がしやすくなるはずです。\n",
    "\n",
    "ただし、ニューラルネットワークの目的関数は凸関数ではないため、局所解に陥ってしまう可能性があるので必ず上手くいくとは限りません。\n",
    "\n",
    "下記のように、隠れ層のニューロンの数を３つにして実行してみましょう。\n",
    "\n",
    "下のセルを実行すると次のテキストが出力されます。\n",
    "\n",
    "- Training set score: 1.000000\n",
    "- Test set score: 1.000000\n",
    "\n",
    "**各スコアが1にならない場合は、スコアが1になるまで何度かセルを実行してみてみてください。**"
   ]
  },
  {
   "cell_type": "code",
   "execution_count": 24,
   "metadata": {
    "collapsed": false
   },
   "outputs": [
    {
     "name": "stdout",
     "output_type": "stream",
     "text": [
      "Training set score: 1.000000\n",
      "Test set score: 1.000000\n"
     ]
    },
    {
     "data": {
      "image/png": "[encoded data removed]",
      "text/plain": [
       "<matplotlib.figure.Figure at 0x7f5f1908a198>"
      ]
     },
     "metadata": {},
     "output_type": "display_data"
    }
   ],
   "source": [
    "x = np.array([[0, 0], [1, 1], [1, 0], [0, 1]])\n",
    "y = np.array([[1, 0], [1, 0], [0, 1], [0, 1]])\n",
    "X_train, X_test = x, x\n",
    "y_train, y_test = y, y\n",
    "\n",
    "mlp = MLPClassifier(hidden_layer_sizes=(3),# 隠れ層のニューロンの数を３個に\n",
    "                    activation='relu',\n",
    "                    max_iter=10000,\n",
    "                    alpha=0,\n",
    "                    solver='sgd', \n",
    "                    verbose=0,\n",
    "                    learning_rate_init=0.01)\n",
    "\n",
    "mlp.fit(X_train, y_train)\n",
    "\n",
    "print(\"Training set score: %f\" % mlp.score(X_train, y_train))\n",
    "print(\"Test set score: %f\" % mlp.score(X_test, y_test))\n",
    "\n",
    "plt.plot(mlp.loss_curve_)\n",
    "plt.show()"
   ]
  },
  {
   "cell_type": "markdown",
   "metadata": {},
   "source": [
    "**「Training set score」と「Test set score」の出力がそれぞれ「１」**になったことを確認したら次のセルを実行し、出力を確認しましょう。"
   ]
  },
  {
   "cell_type": "code",
   "execution_count": 25,
   "metadata": {
    "collapsed": false
   },
   "outputs": [
    {
     "name": "stdout",
     "output_type": "stream",
     "text": [
      "[[9.99711892e-01 2.88107700e-04]\n",
      " [9.99846689e-01 1.53310740e-04]\n",
      " [7.73871160e-03 9.92261288e-01]\n",
      " [7.23177477e-05 9.99927682e-01]]\n"
     ]
    }
   ],
   "source": [
    "W1 = mlp.coefs_[0]\n",
    "b1 = mlp.intercepts_[0]\n",
    "W2 = mlp.coefs_[1]\n",
    "b2 = mlp.intercepts_[1]\n",
    "\n",
    "#　フォワードプロパゲーション１\n",
    "#入力\n",
    "x = np.array([[0, 0], [1, 1], [1, 0], [0, 1]])\n",
    "\n",
    "#隠れ層\n",
    "layer1_z = np.dot(x, W1) + b1\n",
    "layer1_a = relu(layer1_z)          # relu Activation\n",
    "\n",
    "#出力\n",
    "layer2_z = np.dot(layer1_a, W2) + b2\n",
    "layer2_a = softmax(layer2_z)       # softmax\n",
    "\n",
    "print(layer2_a)"
   ]
  },
  {
   "cell_type": "markdown",
   "metadata": {},
   "source": [
    "出力（layer2_a）の状態を可視化してみましょう。"
   ]
  },
  {
   "cell_type": "code",
   "execution_count": 26,
   "metadata": {
    "collapsed": false
   },
   "outputs": [
    {
     "data": {
      "image/png": "[encoded data removed]",
      "text/plain": [
       "<matplotlib.figure.Figure at 0x7f5f1516bb00>"
      ]
     },
     "metadata": {},
     "output_type": "display_data"
    }
   ],
   "source": [
    "plt.scatter(layer2_a[0][0], layer2_a[0][1], s=200, color='blue',  marker='o', label='1')\n",
    "plt.scatter(layer2_a[1][0], layer2_a[1][1], s=200, color='blue', marker='o')\n",
    "plt.scatter(layer2_a[2][0], layer2_a[2][1], s=200, color='red', marker='x',  label='0')\n",
    "plt.scatter(layer2_a[3][0], layer2_a[3][1], s=200, color='red', marker='x')\n",
    "plt.legend(bbox_to_anchor=(1.05, 1), loc='upper left', borderaxespad=0, fontsize=18)\n",
    "plt.show()"
   ]
  },
  {
   "cell_type": "markdown",
   "metadata": {},
   "source": [
    "隱れ層(layer1_a)の出力を確認してみましょう。"
   ]
  },
  {
   "cell_type": "code",
   "execution_count": 27,
   "metadata": {
    "collapsed": false
   },
   "outputs": [
    {
     "data": {
      "image/png": "[encoded data removed]",
      "text/plain": [
       "<matplotlib.figure.Figure at 0x7f5f4794de48>"
      ]
     },
     "metadata": {},
     "output_type": "display_data"
    }
   ],
   "source": [
    "from mpl_toolkits.mplot3d import Axes3D\n",
    "fig = plt.figure()\n",
    "ax = fig.add_subplot(111, projection='3d')\n",
    "layer1_a\n",
    "ax.scatter3D(layer1_a[0][0], layer1_a[0][1], layer1_a[0][2], color='blue',  marker='o')\n",
    "ax.scatter3D(layer1_a[1][0], layer1_a[1][1], layer1_a[1][2], color='blue',  marker='o')\n",
    "ax.scatter3D(layer1_a[2][0], layer1_a[2][1], layer1_a[2][2], color='red', marker='x')\n",
    "ax.scatter3D(layer1_a[3][0], layer1_a[3][1], layer1_a[3][2], color='red', marker='x')\n",
    "ax.set_title(\"Scatter Plot\")\n",
    "plt.show()"
   ]
  },
  {
   "cell_type": "markdown",
   "metadata": {},
   "source": [
    "## 活性化関数を変えてみる\n",
    "ここまでは隠れ層の活性化関数をrelu関数を用いてきました。\n",
    "\n",
    "ここではrelu関数以外の活性化関数を用いて同じ問題を解いてみましょう。\n",
    "\n",
    "MLPClassifierの利用方法をマニュアルを確認すると、活性化関数として利用できる関数は４つあります。\n",
    "\n",
    "「 identity 」「 logistic 」「 tanh 」「 relu 」のいずれかになります。\n",
    "\n",
    "- [sklearn.neural_network.MLPClassifier](http://scikit-learn.org/stable/modules/generated/sklearn.neural_network.MLPClassifier.html)\n",
    "\n",
    "この中で「 relu 」以外で、何度か繰り返せば結果が「Training set score: 1.000000」となる活性化関数は何かを見つけてください。\n",
    "\n",
    "隠れ層のニューロンの個数が２のままとします。"
   ]
  },
  {
   "cell_type": "code",
   "execution_count": 28,
   "metadata": {
    "collapsed": false
   },
   "outputs": [
    {
     "name": "stdout",
     "output_type": "stream",
     "text": [
      "Training set score: 0.500000\n",
      "Test set score: 0.500000\n"
     ]
    },
    {
     "data": {
      "image/png": "[encoded data removed]",
      "text/plain": [
       "<matplotlib.figure.Figure at 0x7f5f15233e10>"
      ]
     },
     "metadata": {},
     "output_type": "display_data"
    }
   ],
   "source": [
    "x = np.array([[0, 0], [1, 1], [1, 0], [0, 1]])\n",
    "y = np.array([[1, 0], [1, 0], [0, 1], [0, 1]])\n",
    "X_train, X_test = x, x\n",
    "y_train, y_test = y, y\n",
    "\n",
    "mlp = MLPClassifier(hidden_layer_sizes=(2),\n",
    "                    activation='tanh',\n",
    "                    max_iter=10000,\n",
    "                    alpha=0,\n",
    "                    solver='sgd',\n",
    "                    verbose=0,\n",
    "                    learning_rate_init=0.01)\n",
    "\n",
    "mlp.fit(X_train, y_train)\n",
    "\n",
    "print(\"Training set score: %f\" % mlp.score(X_train, y_train))\n",
    "print(\"Test set score: %f\" % mlp.score(X_test, y_test))\n",
    "\n",
    "plt.plot(mlp.loss_curve_)\n",
    "plt.show()"
   ]
  },
  {
   "cell_type": "markdown",
   "metadata": {},
   "source": [
    "活性化関数になにを選ぶかによって学習結果や学習スピードに大きな違いが出ることが理解できたと思います。"
   ]
  },
  {
   "cell_type": "code",
   "execution_count": null,
   "metadata": {
    "collapsed": true
   },
   "outputs": [],
   "source": []
  }
 ],
 "metadata": {
  "anaconda-cloud": {},
  "kernelspec": {
   "display_name": "Python [default]",
   "language": "python",
   "name": "python3"
  },
  "language_info": {
   "codemirror_mode": {
    "name": "ipython",
    "version": 3
   },
   "file_extension": ".py",
   "mimetype": "text/x-python",
   "name": "python",
   "nbconvert_exporter": "python",
   "pygments_lexer": "ipython3",
   "version": "3.5.2"
  },
  "toc": {
   "nav_menu": {
    "height": "246px",
    "width": "252px"
   },
   "navigate_menu": true,
   "number_sections": true,
   "sideBar": true,
   "threshold": 4,
   "toc_cell": false,
   "toc_section_display": "block",
   "toc_window_display": true
  }
 },
 "nbformat": 4,
 "nbformat_minor": 2
}
