{
 "cells": [
  {
   "cell_type": "markdown",
   "metadata": {},
   "source": [
    "# Step8 演習01 ニューラルネットワークの基礎\n",
    "---"
   ]
  },
  {
   "cell_type": "markdown",
   "metadata": {},
   "source": [
    "ロジスティック回帰は線形分離不可能なデータ（Kクラスの場合K-1本の線で分離できないデータ）を解くことが困難でした。\n",
    "\n",
    "ニューラルネットワークは線形分離不可能なデータを解くときに威力を発揮します。\n",
    "\n",
    "Step8演習01 では、ロジスティック回帰とニューラルネットワークのモデルをそれぞれ構築し、線形分離不可能なデータの分類に取り組んでみます。\n",
    "\n",
    "今回は学習済みのパラメータを使って「線形分離不可能なデータ」の予測の結果を考察し、ニューラルネットワークが強力であることを体験してもらいます。\n",
    "\n",
    "** はじめに **\n",
    "\n",
    "* for文やwhile文の利用は明示的な利用指示がない場所での使用は避けてください。\n",
    "\n",
    "** 本演習の目的 **\n",
    "\n",
    "* （復習）ロジスティック回帰とニューラルネットワークの違いを学ぶ。\n",
    "* 線形分離不可能なデータの分類に取り組む。\n",
    "* 学習済みのパラメータがあれば、モデルの精度の予測はフォワードプロパゲーションを１度だけ行えばいいことを体験する。"
   ]
  },
  {
   "cell_type": "markdown",
   "metadata": {},
   "source": [
    "## ライブラリのインポート"
   ]
  },
  {
   "cell_type": "markdown",
   "metadata": {},
   "source": [
    "まずはじめに、利用するライブラリのインポートを行います。\n",
    "\n",
    "- [Numpy](http://www.numpy.org/)　数値計算を行うための基本パッケージの公式ドキュメント\n",
    "- [Matplotlib](https://matplotlib.org/)　グラフ描画ライブラリの基本パッケージの公式ドキュメント\n",
    "\n",
    "ドキュメントには有用な情報が書き記されています。何か迷ったときには必ずドキュメントに戻ってくるようにしましょう。\n",
    "\n",
    "次のセルをそのまま実行（\"SHIFT\" + \"ENTER\"）してください。コードが書いてあるセルは**上から順番**に順次実行してください。\n",
    "\n",
    "** 注意：** 初めてmatplotlibを使うユーザーは、フォント一覧のキャッシュが存在しないため、このセルの実行でWarningが出ます。もう一度実行すると、すでにキャッシュができているので、Warningなく走ります。"
   ]
  },
  {
   "cell_type": "code",
   "execution_count": 1,
   "metadata": {
    "collapsed": true
   },
   "outputs": [],
   "source": [
    "%matplotlib inline\n",
    "import numpy as np\n",
    "import matplotlib.pyplot as plt"
   ]
  },
  {
   "cell_type": "markdown",
   "metadata": {},
   "source": [
    "## 線形分離不可能なデータセット"
   ]
  },
  {
   "cell_type": "markdown",
   "metadata": {},
   "source": [
    "線形分離不可能なデータセットの例として今回はXNORを使います。\n",
    "\n",
    "XNORは、入力 $x$=[0,0], [1,1], [0,1], [1,0] のときの出力 y=[1,1,0,0] となります。"
   ]
  },
  {
   "cell_type": "markdown",
   "metadata": {},
   "source": [
    "<table style=\"width:30%\">\n",
    "\n",
    "\t<thead>\n",
    "\t<tr>\n",
    "\t\t<th >入力$X_1$</th>\n",
    "\t\t<th >入力$X_2$</th>\n",
    "\t\t<th >出力$y$</th>\n",
    "\t</tr>\n",
    "\t</thead>\n",
    "\n",
    "  <tr>\n",
    "    <td>0</td>\n",
    "    <td> 0 </td> \n",
    "    <td> 1 </td> \n",
    "  </tr>\n",
    "  \n",
    "    <tr>\n",
    "    <td>1</td>\n",
    "    <td> 1 </td> \n",
    "    <td> 1 </td> \n",
    "  </tr>\n",
    "  \n",
    "    <tr>\n",
    "    <td>0</td>\n",
    "    <td> 1 </td> \n",
    "    <td> 0 </td> \n",
    "  </tr>\n",
    " \n",
    "     <tr>\n",
    "    <td>1</td>\n",
    "    <td> 0 </td> \n",
    "    <td> 0 </td> \n",
    "  </tr>\n",
    "  \n",
    "</table>"
   ]
  },
  {
   "cell_type": "code",
   "execution_count": 2,
   "metadata": {
    "collapsed": true
   },
   "outputs": [],
   "source": [
    "# 入力データ\n",
    "x = np.array([[0, 0], [1, 1], [0, 1],[1, 0]])\n",
    "# 正解\n",
    "y = np.array([[1], [1], [0], [0]])"
   ]
  },
  {
   "cell_type": "code",
   "execution_count": 3,
   "metadata": {
    "collapsed": false
   },
   "outputs": [
    {
     "data": {
      "text/plain": [
       "array([[0, 0],\n",
       "       [1, 1],\n",
       "       [0, 1],\n",
       "       [1, 0]])"
      ]
     },
     "execution_count": 3,
     "metadata": {},
     "output_type": "execute_result"
    }
   ],
   "source": [
    "x"
   ]
  },
  {
   "cell_type": "code",
   "execution_count": 4,
   "metadata": {
    "collapsed": false
   },
   "outputs": [
    {
     "data": {
      "text/plain": [
       "array([[1],\n",
       "       [1],\n",
       "       [0],\n",
       "       [0]])"
      ]
     },
     "execution_count": 4,
     "metadata": {},
     "output_type": "execute_result"
    }
   ],
   "source": [
    "y"
   ]
  },
  {
   "cell_type": "markdown",
   "metadata": {},
   "source": [
    "## データを可視化してみよう"
   ]
  },
  {
   "cell_type": "markdown",
   "metadata": {},
   "source": [
    "下のセルを実行してください。入力 $x$ と $y$ の関係をプロットします。"
   ]
  },
  {
   "cell_type": "code",
   "execution_count": 5,
   "metadata": {
    "collapsed": false
   },
   "outputs": [
    {
     "data": {
      "image/png": "[encoded data removed]",
      "text/plain": [
       "<matplotlib.figure.Figure at 0x7f6be770b828>"
      ]
     },
     "metadata": {},
     "output_type": "display_data"
    }
   ],
   "source": [
    "plt.scatter(x[0][0], x[0][1], s=200, color='blue',  marker='o', label='1')\n",
    "plt.scatter(x[1][0], x[1][1], s=200, color='blue', marker='o')\n",
    "plt.scatter(x[2][0], x[2][1], s=200, color='red', marker='x',  label='0')\n",
    "plt.scatter(x[3][0], x[3][1], s=200, color='red', marker='x')\n",
    "plt.legend(bbox_to_anchor=(1.05, 1), loc='upper left', borderaxespad=0, fontsize=18)\n",
    "plt.show()"
   ]
  },
  {
   "cell_type": "markdown",
   "metadata": {},
   "source": [
    "## （復習）ロジスティック回帰とニューラルネットワーク"
   ]
  },
  {
   "cell_type": "markdown",
   "metadata": {},
   "source": [
    "ロジスティック回帰のモデルとニューラルネットワークのモデルを確認しましょう。\n",
    "\n",
    "ロジスティック回帰とニューラルネットワークの大きな違いは隠れ層の有無でした。\n",
    "\n",
    "下の画像の左がロジスティック回帰、右がニューラルネットワークになっています。"
   ]
  },
  {
   "cell_type": "markdown",
   "metadata": {},
   "source": [
    "<div align=\"center\"  style=\"width:95%\">\n",
    "<img src=\"./dataStep8/logi_nn_model.png\"></div>"
   ]
  },
  {
   "cell_type": "markdown",
   "metadata": {},
   "source": [
    "## ロジスティック回帰では線形分離不可能なデータを分類できないことを確認しよう"
   ]
  },
  {
   "cell_type": "markdown",
   "metadata": {},
   "source": [
    "下記の条件で、入力層と出力層のみのロジスティック回帰を構築します：\n",
    "\n",
    "- 入力層のユニット数 ２\n",
    "- 出力層のユニット数 １\n",
    "\n",
    "scikit-learnを用いてロジスティック回帰問題を解いてみましょう。"
   ]
  },
  {
   "cell_type": "code",
   "execution_count": 6,
   "metadata": {
    "collapsed": false
   },
   "outputs": [
    {
     "data": {
      "text/plain": [
       "LogisticRegression(C=1.0, class_weight=None, dual=False, fit_intercept=True,\n",
       "          intercept_scaling=1, max_iter=100, multi_class='ovr', n_jobs=1,\n",
       "          penalty='l2', random_state=None, solver='liblinear', tol=0.0001,\n",
       "          verbose=0, warm_start=False)"
      ]
     },
     "execution_count": 6,
     "metadata": {},
     "output_type": "execute_result"
    }
   ],
   "source": [
    "from sklearn.linear_model import LogisticRegression #ロジスティック回帰\n",
    "x = np.array([[0, 0], [1, 1], [0, 1],[1, 0]])\n",
    "y = np.array([1, 1, 0, 0])\n",
    "estimator = LogisticRegression() #インスタンスを作成\n",
    "estimator.fit(x,y)"
   ]
  },
  {
   "cell_type": "markdown",
   "metadata": {},
   "source": [
    "結果を確認してみましょう。predict()に[0, 0], [1, 1], [0, 1],[1, 0]を与え、結果として[1, 1, 0, 0]を予想してくれれば正しく分類できたことになります。"
   ]
  },
  {
   "cell_type": "code",
   "execution_count": 7,
   "metadata": {
    "collapsed": false
   },
   "outputs": [
    {
     "data": {
      "text/plain": [
       "array([0, 0, 0, 0])"
      ]
     },
     "execution_count": 7,
     "metadata": {},
     "output_type": "execute_result"
    }
   ],
   "source": [
    "estimator.predict(x)"
   ]
  },
  {
   "cell_type": "markdown",
   "metadata": {},
   "source": [
    "ロジスティック回帰では、線形分離不可能なデータをうまく分類できないことを確認できたと思います。\n",
    "\n",
    "次に、ニューラルネットワークを使うことで線形分離不可能なデータを分類できることを確認したいと思います。"
   ]
  },
  {
   "cell_type": "markdown",
   "metadata": {},
   "source": [
    "## ニューラルネットワークを用いて線形分離不可能なデータを分類できることを確認しよう"
   ]
  },
  {
   "cell_type": "markdown",
   "metadata": {},
   "source": [
    "下記の条件で、ロジスティック回帰モデルに隠れ層を追加したニューラルネットワークを構築します：\n",
    "\n",
    "それぞれの層のユニット数は次のようにします。\n",
    "\n",
    "- 入力層のユニット数 ２\n",
    "- 隠れ層のユニット数 2\n",
    "- 出力層のユニット数 １\n",
    "\n",
    "まず、 ニューラルネットワークで利用するシグモイド関数を実装しましょう。"
   ]
  },
  {
   "cell_type": "markdown",
   "metadata": {},
   "source": [
    "** 【課題１】 ** シグモイド関数の出力を返す関数 sigmoid(x) を実装してください。\n",
    "\n",
    "**Note:**\n",
    "シグモイド関数の定義です。\n",
    "\n",
    "$$\\sigma{(x)}=\\frac{1}{1+e^{-x}}$$"
   ]
  },
  {
   "cell_type": "code",
   "execution_count": 8,
   "metadata": {
    "collapsed": true
   },
   "outputs": [],
   "source": [
    "#Coursemale-02 Step8 QuestionNumber1 6f252b88ed53473e789755bb160e13ea\n",
    "def sigmoid(x):\n",
    "###############ここを穴埋めしてください###############\n",
    "    y = 1 / (1 + np.exp(-x))\n",
    "######################################################\n",
    "    return y"
   ]
  },
  {
   "cell_type": "markdown",
   "metadata": {},
   "source": [
    "** 左上の保存マークをクリックした後**、次のセルをShift+Enterで実行して採点します。"
   ]
  },
  {
   "cell_type": "code",
   "execution_count": 9,
   "metadata": {
    "collapsed": false
   },
   "outputs": [
    {
     "name": "stdout",
     "output_type": "stream",
     "text": [
      "Congratulations!\n",
      "We give you 10 points out of 10 points.\n",
      "\n"
     ]
    }
   ],
   "source": [
    "%%bash\n",
    "./validation_client.py male-02 8 1 Step8_01.ipynb api.internal.zero2one.jp"
   ]
  },
  {
   "cell_type": "markdown",
   "metadata": {},
   "source": [
    "次に、ニューラルネットワークのフォワードプロパゲーションを実装しましょう。\n",
    "\n",
    "** 【課題２】 ** フォワードプロパゲーションの出力を返す関数forward_propagation(X, W1,b1, W2, b2)を上図を確認しながら実装してください。\n",
    "\n",
    "**Note：**\n",
    "\n",
    "隠れ層と出力層の活性化関数はシグモイド関数とします。\n",
    "\n",
    "１番目の層（隠れ層）：<br>\n",
    "$layer1\\_z = w_1\\cdot{x}+b_1$ <br>\n",
    "$layer1\\_a = sigmoid(layer1\\_z)$\n",
    "\n",
    "２番目の層（出力層）：<br>\n",
    "$layer2\\_z = w_2\\cdot{layer1\\_a}+b_2$<br>\n",
    "$layer2\\_a = sigmoid(layer2\\_z)$"
   ]
  },
  {
   "cell_type": "code",
   "execution_count": 21,
   "metadata": {
    "code_folding": [],
    "collapsed": true
   },
   "outputs": [],
   "source": [
    "#Coursemale-02 Step8 QuestionNumber2 1e76ceb297e3d331dcf8a88c9b296d9e\n",
    "def forward_propagation(X, W1, b1, W2, b2):\n",
    "###############ここを穴埋めしてください###############\n",
    "    layer1_z = np.dot(X, W1) + b1\n",
    "    layer1_a = sigmoid(layer1_z)\n",
    "    layer2_z = np.dot(layer1_a, W2) + b2\n",
    "    layer2_a = sigmoid(layer2_z) \n",
    "######################################################\n",
    "    return layer2_a"
   ]
  },
  {
   "cell_type": "markdown",
   "metadata": {},
   "source": [
    "** 左上の保存マークをクリックした後**、次のセルをShift+Enterで実行して採点します。"
   ]
  },
  {
   "cell_type": "code",
   "execution_count": 22,
   "metadata": {
    "collapsed": false
   },
   "outputs": [
    {
     "name": "stdout",
     "output_type": "stream",
     "text": [
      "Congratulations!\n",
      "We give you 10 points out of 10 points.\n",
      "\n"
     ]
    }
   ],
   "source": [
    "%%bash\n",
    "./validation_client.py male-02 8 2 Step8_01.ipynb api.internal.zero2one.jp"
   ]
  },
  {
   "cell_type": "markdown",
   "metadata": {},
   "source": [
    "またこのニューラルネットワークの** 学習済みのモデルのパラメータ**を用意しました。下のセルを実行するとパラメータを読み込むことができます。"
   ]
  },
  {
   "cell_type": "code",
   "execution_count": 23,
   "metadata": {
    "collapsed": true
   },
   "outputs": [],
   "source": [
    "#パラメータを読み込む\n",
    "import h5py\n",
    "with h5py.File('./dataStep8/step8_nn_parameter.h5', 'r') as f:\n",
    "    W1 = np.array(f['W1'])\n",
    "    b1 = np.array(f['b1'])\n",
    "    W2 = np.array(f['W2'])\n",
    "    b2 = np.array(f['b2'])"
   ]
  },
  {
   "cell_type": "markdown",
   "metadata": {},
   "source": [
    "#### 重み$w$とバイアス$b$を確認してみる"
   ]
  },
  {
   "cell_type": "markdown",
   "metadata": {},
   "source": [
    "下のセルを実行して重み $w$ バイアス $b$ の中身を確認してみましょう。"
   ]
  },
  {
   "cell_type": "code",
   "execution_count": 24,
   "metadata": {
    "collapsed": false
   },
   "outputs": [
    {
     "data": {
      "text/plain": [
       "array([[-5.35529467, -5.7287608 ],\n",
       "       [ 5.55512995,  5.61549819]])"
      ]
     },
     "execution_count": 24,
     "metadata": {},
     "output_type": "execute_result"
    }
   ],
   "source": [
    "W1"
   ]
  },
  {
   "cell_type": "code",
   "execution_count": 25,
   "metadata": {
    "collapsed": false
   },
   "outputs": [
    {
     "data": {
      "text/plain": [
       "array([[ 2.68838282, -3.07986451]])"
      ]
     },
     "execution_count": 25,
     "metadata": {},
     "output_type": "execute_result"
    }
   ],
   "source": [
    "b1"
   ]
  },
  {
   "cell_type": "code",
   "execution_count": 26,
   "metadata": {
    "collapsed": false
   },
   "outputs": [
    {
     "data": {
      "text/plain": [
       "array([[ 8.15284251],\n",
       "       [-8.45500275]])"
      ]
     },
     "execution_count": 26,
     "metadata": {},
     "output_type": "execute_result"
    }
   ],
   "source": [
    "W2"
   ]
  },
  {
   "cell_type": "code",
   "execution_count": 27,
   "metadata": {
    "collapsed": false
   },
   "outputs": [
    {
     "data": {
      "text/plain": [
       "array([[-3.82772975]])"
      ]
     },
     "execution_count": 27,
     "metadata": {},
     "output_type": "execute_result"
    }
   ],
   "source": [
    "b2"
   ]
  },
  {
   "cell_type": "markdown",
   "metadata": {},
   "source": [
    "この学習済みのパラメータを使ってニューラルネットワークの出力の結果の確認を行いましょう。正しく分類できることを確認してください。"
   ]
  },
  {
   "cell_type": "code",
   "execution_count": 28,
   "metadata": {
    "collapsed": false
   },
   "outputs": [],
   "source": [
    "output = forward_propagation(x, W1,b1, W2, b2)"
   ]
  },
  {
   "cell_type": "code",
   "execution_count": 29,
   "metadata": {
    "collapsed": false
   },
   "outputs": [
    {
     "name": "stdout",
     "output_type": "stream",
     "text": [
      "[[0.96876625]\n",
      " [0.97239592]\n",
      " [0.02898801]\n",
      " [0.03559071]]\n"
     ]
    }
   ],
   "source": [
    "print(output)"
   ]
  },
  {
   "cell_type": "markdown",
   "metadata": {},
   "source": [
    "出力（ output） の最初の２つが１に近く、残りの２つがゼロに近ければ、ニューラルネットワークでは想定していた分類結果である $y = [1,1,0,0]$ を予測できたことになります。"
   ]
  },
  {
   "cell_type": "markdown",
   "metadata": {},
   "source": [
    "<table style=\"width:30%\">\n",
    "\n",
    "\t<thead>\n",
    "\t<tr>\n",
    "\t\t<th >入力$X_1$</th>\n",
    "\t\t<th >入力$X_2$</th>\n",
    "\t\t<th >出力$y$</th>\n",
    "\t</tr>\n",
    "\t</thead>\n",
    "\n",
    "  <tr>\n",
    "    <td>0</td>\n",
    "    <td> 0 </td> \n",
    "    <td> 1 </td> \n",
    "  </tr>\n",
    "  \n",
    "    <tr>\n",
    "    <td>1</td>\n",
    "    <td> 1 </td> \n",
    "    <td> 1 </td> \n",
    "  </tr>\n",
    "  \n",
    "    <tr>\n",
    "    <td>0</td>\n",
    "    <td> 1 </td> \n",
    "    <td> 0 </td> \n",
    "  </tr>\n",
    " \n",
    "     <tr>\n",
    "    <td>1</td>\n",
    "    <td> 0 </td> \n",
    "    <td> 0 </td> \n",
    "  </tr>\n",
    "  \n",
    "</table>"
   ]
  },
  {
   "cell_type": "markdown",
   "metadata": {
    "collapsed": true
   },
   "source": [
    "## おつかれさまでした。"
   ]
  },
  {
   "cell_type": "markdown",
   "metadata": {
    "collapsed": true
   },
   "source": [
    "Step8の演習を通して、改めて線形分離不可能なデータの場合、ニューラルネットワークが強力であることを学習できたと思います。\n",
    "\n",
    "本演習ではニューラルネットワークはフォワードプロパーゲションまでしか行いませんでした。また、モデルのパラメータを求め、確認することはしませんでした。\n",
    "\n",
    "以降のステップで、scikit-learnやスクラッチ実装したニューラルネットワークのモデルの学習後のパラメータの確認や、テスト利用する場合について考えてみることにします。\n",
    "\n",
    "そしてマルチクラス分類問題への応用にも取り組みます。"
   ]
  },
  {
   "cell_type": "code",
   "execution_count": null,
   "metadata": {
    "collapsed": true
   },
   "outputs": [],
   "source": []
  }
 ],
 "metadata": {
  "anaconda-cloud": {},
  "kernelspec": {
   "display_name": "Python [default]",
   "language": "python",
   "name": "python3"
  },
  "language_info": {
   "codemirror_mode": {
    "name": "ipython",
    "version": 3
   },
   "file_extension": ".py",
   "mimetype": "text/x-python",
   "name": "python",
   "nbconvert_exporter": "python",
   "pygments_lexer": "ipython3",
   "version": "3.5.2"
  },
  "toc": {
   "nav_menu": {
    "height": "174px",
    "width": "252px"
   },
   "navigate_menu": true,
   "number_sections": true,
   "sideBar": true,
   "threshold": 4,
   "toc_cell": false,
   "toc_section_display": "block",
   "toc_window_display": true
  }
 },
 "nbformat": 4,
 "nbformat_minor": 2
}
